{
 "cells": [
  {
   "cell_type": "code",
   "execution_count": 1,
   "id": "bc4779bd",
   "metadata": {},
   "outputs": [],
   "source": [
    "import pandas as pd\n"
   ]
  },
  {
   "cell_type": "code",
   "execution_count": 1,
   "id": "ebec801c",
   "metadata": {},
   "outputs": [],
   "source": [
    "def detect_process_errors(df):\n",
    "    \"\"\"Function that return the dataframe with added columns in order to conduct the error rate analysis\"\"\"\n",
    "    df = df.sort_values(['client_id','date_time'])\n",
    "    process_map = {'start':0, 'step_1':1, 'step_2':2, 'step_3':3, 'confirm':4}\n",
    "    df['process_step_id'] = df['process_step'].map(process_map)\n",
    "    df['previous_process_step_id'] = (df.sort_values(by=['client_id','date_time']).groupby('client_id')['process_step_id'].shift(1))\n",
    "    df['is_error'] = df['process_step_id'] < df['previous_process_step_id']\n",
    "    df_client_error = df_final_web_data[df_final_web_data['is_error']==True].groupby('client_id')['is_error'].agg([max,len])\n",
    "    return df_client_error"
   ]
  },
  {
   "cell_type": "code",
   "execution_count": null,
   "id": "4e3009da",
   "metadata": {},
   "outputs": [],
   "source": []
  }
 ],
 "metadata": {
  "kernelspec": {
   "display_name": "Python 3 (ipykernel)",
   "language": "python",
   "name": "python3"
  },
  "language_info": {
   "codemirror_mode": {
    "name": "ipython",
    "version": 3
   },
   "file_extension": ".py",
   "mimetype": "text/x-python",
   "name": "python",
   "nbconvert_exporter": "python",
   "pygments_lexer": "ipython3",
   "version": "3.11.5"
  }
 },
 "nbformat": 4,
 "nbformat_minor": 5
}

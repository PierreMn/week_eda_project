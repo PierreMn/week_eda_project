{
 "cells": [
  {
   "cell_type": "code",
   "execution_count": 1,
   "id": "d05565ce-e6a5-4f03-8410-05da0bd4c5ba",
   "metadata": {
    "tags": []
   },
   "outputs": [],
   "source": [
    "from functions import *\n",
    "import pandas as pd\n",
    "import seaborn as sns\n",
    "import matplotlib.pyplot as plt\n",
    "import numpy as np\n",
    "\n",
    "from scipy.stats import chi2_contingency\n",
    "from scipy.stats.contingency import association"
   ]
  },
  {
   "cell_type": "code",
   "execution_count": 2,
   "id": "aba30bd9-5fd3-43f2-a437-a43231ed0f46",
   "metadata": {
    "tags": []
   },
   "outputs": [],
   "source": [
    "url_1 = 'https://raw.githubusercontent.com/data-bootcamp-v4/lessons/main/5_6_eda_inf_stats_tableau/project/files_for_project/df_final_demo.txt'\n",
    "url_2 = 'https://raw.githubusercontent.com/data-bootcamp-v4/lessons/main/5_6_eda_inf_stats_tableau/project/files_for_project/df_final_experiment_clients.txt'\n",
    "url_3 = 'https://raw.githubusercontent.com/data-bootcamp-v4/lessons/main/5_6_eda_inf_stats_tableau/project/files_for_project/df_final_web_data_pt_1.txt'\n",
    "url_4 = 'https://raw.githubusercontent.com/data-bootcamp-v4/lessons/main/5_6_eda_inf_stats_tableau/project/files_for_project/df_final_web_data_pt_2.txt'"
   ]
  },
  {
   "cell_type": "code",
   "execution_count": 3,
   "id": "27478573-0b02-4a1f-b481-fb35f13bd219",
   "metadata": {
    "tags": []
   },
   "outputs": [],
   "source": [
    "client_profile = pd.read_csv(url_1)\n",
    "exp_client = pd.read_csv(url_2)"
   ]
  },
  {
   "cell_type": "code",
   "execution_count": 4,
   "id": "8937105a-3cc9-4872-948d-79fa7af9c0d6",
   "metadata": {
    "tags": []
   },
   "outputs": [],
   "source": [
    "df_1 = pd.read_csv(url_3, parse_dates=['date_time'])\n",
    "df_2 = pd.read_csv(url_4, parse_dates=['date_time'])"
   ]
  },
  {
   "cell_type": "code",
   "execution_count": 5,
   "id": "5c1f3519-5112-4f64-9dd8-bf3d654f49f5",
   "metadata": {
    "tags": []
   },
   "outputs": [],
   "source": [
    "# Concat Digital Footprints (df_final_web_data) pt_1 and pt_2 into one file:\n",
    "df = pd.concat([df_1, df_2])\n",
    "\n",
    "# Remove duplicated rows in merged digital footprints file 'df'\n",
    "# df.duplicated().sum() - there are 10764 duplicated rows\n",
    "df.drop_duplicates(inplace=True)"
   ]
  },
  {
   "cell_type": "code",
   "execution_count": 6,
   "id": "27699e10-04cc-4c94-8e77-9a61b116de83",
   "metadata": {
    "tags": []
   },
   "outputs": [],
   "source": [
    "# Merge client profiles file (df_final_demo.txt) with experiment roster (df_final_experiment_clients.txt)\n",
    "\n",
    "clients = pd.merge(client_profile, exp_client, on='client_id', how='outer')"
   ]
  },
  {
   "cell_type": "code",
   "execution_count": 7,
   "id": "b8499ae3-25a3-4bc6-8bb6-1e2665d8ce7c",
   "metadata": {
    "tags": []
   },
   "outputs": [],
   "source": [
    "# Cleaning 'clients' file:\n",
    "# 1. Fill rows wiht NaN value in 'Variation' column with 'Uknown' - 20109 rows\n",
    "# 2. Drop row with NaN value in 'gender' column - 12 rows\n",
    "# 3. Drop rows with 'X' value in 'gender column' - 2 rows\n",
    "# 4. Drop row with NaN value in 'age' column - 1 row\n",
    "\n",
    "#1\n",
    "#clients = clients.dropna(subset=['Variation']) \n",
    "clients['Variation'] = clients['Variation'].fillna('Unknown')\n",
    "\n",
    "#2\n",
    "clients = clients.dropna(subset=['gendr']) \n",
    "\n",
    "#3\n",
    "clients.drop(clients[clients['gendr'] == 'X'].index, inplace=True)\n",
    "\n",
    "#4\n",
    "clients = clients.dropna(subset=['clnt_age']) "
   ]
  },
  {
   "cell_type": "code",
   "execution_count": 26,
   "id": "0341b7c4-e464-44b0-a1ed-4cb6f3a7ebd2",
   "metadata": {
    "tags": []
   },
   "outputs": [],
   "source": [
    "# Call functions to calculate average step duration, nr of clients who confirmed, nr of visits, nr of confirmations per client, errors\n",
    "\n",
    "df_avg_step_durations = calc_avg_step_duration(df)\n",
    "\n",
    "clients_who_confirmed = clients_who_finished(df)\n",
    "clients_who_confirmed = clients_who_confirmed.set_index('client_id').sort_values(by='client_id')\n",
    "\n",
    "df_client_visits = nr_of_visits(df)\n",
    "\n",
    "df_client_error = detect_process_errors(df)\n",
    "\n",
    "df_client_confirms = nr_of_confirms(df)"
   ]
  },
  {
   "cell_type": "code",
   "execution_count": 35,
   "id": "7d095641-47b9-4dfe-bf3a-8ab221f26c80",
   "metadata": {
    "tags": []
   },
   "outputs": [],
   "source": [
    "# Call funtion 'data_summary' to create data frame with web data summary\n",
    "\n",
    "dfs =[df_client_visits, clients_who_confirmed, df_avg_step_durations, df_client_confirms, df_client_error]\n",
    "\n",
    "web_data_summary = data_summary(dfs)"
   ]
  },
  {
   "cell_type": "code",
   "execution_count": 28,
   "id": "b607d4ef-c301-4946-9a88-5351523458b5",
   "metadata": {
    "tags": []
   },
   "outputs": [],
   "source": [
    "# df_avg_step_durations"
   ]
  },
  {
   "cell_type": "code",
   "execution_count": 27,
   "id": "a831aad4-8b4c-4cc9-bece-22e2e0aaa9ce",
   "metadata": {
    "tags": []
   },
   "outputs": [],
   "source": [
    "# clients_who_confirmed"
   ]
  },
  {
   "cell_type": "code",
   "execution_count": 29,
   "id": "b88b80fc-db91-46d4-932f-69c266d162a5",
   "metadata": {
    "tags": []
   },
   "outputs": [],
   "source": [
    "# df_client_visits"
   ]
  },
  {
   "cell_type": "code",
   "execution_count": 30,
   "id": "52175687-89cc-4363-a431-20e62575ddba",
   "metadata": {
    "tags": []
   },
   "outputs": [],
   "source": [
    "# df_client_error"
   ]
  },
  {
   "cell_type": "code",
   "execution_count": 31,
   "id": "35b0c0d9-7db5-403c-a569-927d86ff3651",
   "metadata": {
    "tags": []
   },
   "outputs": [],
   "source": [
    "# df_client_confirms"
   ]
  },
  {
   "cell_type": "code",
   "execution_count": 15,
   "id": "4049557e-d358-4b24-99f5-1d94daefe983",
   "metadata": {
    "tags": []
   },
   "outputs": [
    {
     "data": {
      "text/html": [
       "<div>\n",
       "<style scoped>\n",
       "    .dataframe tbody tr th:only-of-type {\n",
       "        vertical-align: middle;\n",
       "    }\n",
       "\n",
       "    .dataframe tbody tr th {\n",
       "        vertical-align: top;\n",
       "    }\n",
       "\n",
       "    .dataframe thead th {\n",
       "        text-align: right;\n",
       "    }\n",
       "</style>\n",
       "<table border=\"1\" class=\"dataframe\">\n",
       "  <thead>\n",
       "    <tr style=\"text-align: right;\">\n",
       "      <th></th>\n",
       "      <th>no_of_visits</th>\n",
       "      <th>is_confirmed</th>\n",
       "      <th>step_duration</th>\n",
       "      <th>no_of_confirms</th>\n",
       "      <th>had_error</th>\n",
       "      <th>error_count</th>\n",
       "    </tr>\n",
       "    <tr>\n",
       "      <th>client_id</th>\n",
       "      <th></th>\n",
       "      <th></th>\n",
       "      <th></th>\n",
       "      <th></th>\n",
       "      <th></th>\n",
       "      <th></th>\n",
       "    </tr>\n",
       "  </thead>\n",
       "  <tbody>\n",
       "    <tr>\n",
       "      <th>169</th>\n",
       "      <td>1</td>\n",
       "      <td>True</td>\n",
       "      <td>0 days 00:00:53.250000</td>\n",
       "      <td>1</td>\n",
       "      <td>False</td>\n",
       "      <td>0</td>\n",
       "    </tr>\n",
       "    <tr>\n",
       "      <th>336</th>\n",
       "      <td>1</td>\n",
       "      <td>False</td>\n",
       "      <td>0 days 00:15:48</td>\n",
       "      <td>0</td>\n",
       "      <td>False</td>\n",
       "      <td>0</td>\n",
       "    </tr>\n",
       "    <tr>\n",
       "      <th>546</th>\n",
       "      <td>1</td>\n",
       "      <td>True</td>\n",
       "      <td>0 days 00:00:33.250000</td>\n",
       "      <td>1</td>\n",
       "      <td>False</td>\n",
       "      <td>0</td>\n",
       "    </tr>\n",
       "    <tr>\n",
       "      <th>555</th>\n",
       "      <td>1</td>\n",
       "      <td>True</td>\n",
       "      <td>0 days 00:00:39.500000</td>\n",
       "      <td>1</td>\n",
       "      <td>False</td>\n",
       "      <td>0</td>\n",
       "    </tr>\n",
       "    <tr>\n",
       "      <th>647</th>\n",
       "      <td>1</td>\n",
       "      <td>True</td>\n",
       "      <td>0 days 00:01:34.250000</td>\n",
       "      <td>1</td>\n",
       "      <td>False</td>\n",
       "      <td>0</td>\n",
       "    </tr>\n",
       "    <tr>\n",
       "      <th>...</th>\n",
       "      <td>...</td>\n",
       "      <td>...</td>\n",
       "      <td>...</td>\n",
       "      <td>...</td>\n",
       "      <td>...</td>\n",
       "      <td>...</td>\n",
       "    </tr>\n",
       "    <tr>\n",
       "      <th>9999729</th>\n",
       "      <td>3</td>\n",
       "      <td>True</td>\n",
       "      <td>0 days 00:01:07.500000</td>\n",
       "      <td>1</td>\n",
       "      <td>True</td>\n",
       "      <td>2</td>\n",
       "    </tr>\n",
       "    <tr>\n",
       "      <th>9999768</th>\n",
       "      <td>1</td>\n",
       "      <td>True</td>\n",
       "      <td>0 days 00:00:44.181818181</td>\n",
       "      <td>1</td>\n",
       "      <td>True</td>\n",
       "      <td>3</td>\n",
       "    </tr>\n",
       "    <tr>\n",
       "      <th>9999832</th>\n",
       "      <td>1</td>\n",
       "      <td>False</td>\n",
       "      <td>0 days 00:00:08</td>\n",
       "      <td>0</td>\n",
       "      <td>False</td>\n",
       "      <td>0</td>\n",
       "    </tr>\n",
       "    <tr>\n",
       "      <th>9999839</th>\n",
       "      <td>1</td>\n",
       "      <td>True</td>\n",
       "      <td>0 days 00:00:49.600000</td>\n",
       "      <td>1</td>\n",
       "      <td>False</td>\n",
       "      <td>0</td>\n",
       "    </tr>\n",
       "    <tr>\n",
       "      <th>9999875</th>\n",
       "      <td>1</td>\n",
       "      <td>True</td>\n",
       "      <td>0 days 00:01:43.600000</td>\n",
       "      <td>1</td>\n",
       "      <td>False</td>\n",
       "      <td>0</td>\n",
       "    </tr>\n",
       "  </tbody>\n",
       "</table>\n",
       "<p>120157 rows × 6 columns</p>\n",
       "</div>"
      ],
      "text/plain": [
       "           no_of_visits  is_confirmed              step_duration  \\\n",
       "client_id                                                          \n",
       "169                   1          True     0 days 00:00:53.250000   \n",
       "336                   1         False            0 days 00:15:48   \n",
       "546                   1          True     0 days 00:00:33.250000   \n",
       "555                   1          True     0 days 00:00:39.500000   \n",
       "647                   1          True     0 days 00:01:34.250000   \n",
       "...                 ...           ...                        ...   \n",
       "9999729               3          True     0 days 00:01:07.500000   \n",
       "9999768               1          True  0 days 00:00:44.181818181   \n",
       "9999832               1         False            0 days 00:00:08   \n",
       "9999839               1          True     0 days 00:00:49.600000   \n",
       "9999875               1          True     0 days 00:01:43.600000   \n",
       "\n",
       "           no_of_confirms  had_error  error_count  \n",
       "client_id                                          \n",
       "169                     1      False            0  \n",
       "336                     0      False            0  \n",
       "546                     1      False            0  \n",
       "555                     1      False            0  \n",
       "647                     1      False            0  \n",
       "...                   ...        ...          ...  \n",
       "9999729                 1       True            2  \n",
       "9999768                 1       True            3  \n",
       "9999832                 0      False            0  \n",
       "9999839                 1      False            0  \n",
       "9999875                 1      False            0  \n",
       "\n",
       "[120157 rows x 6 columns]"
      ]
     },
     "execution_count": 15,
     "metadata": {},
     "output_type": "execute_result"
    }
   ],
   "source": [
    "web_data_summary"
   ]
  },
  {
   "cell_type": "code",
   "execution_count": 36,
   "id": "df868339-9905-473d-9db9-3f8d3136ad4d",
   "metadata": {
    "tags": []
   },
   "outputs": [],
   "source": [
    "# Merge web_data_summary with 'clients' data frame\n",
    "\n",
    "all = pd.merge(clients, web_data_summary, on='client_id', how='outer')\n",
    "\n",
    "# Drop rows with NaN values\n",
    "all = all.dropna()"
   ]
  },
  {
   "cell_type": "code",
   "execution_count": 25,
   "id": "ae9b0083-ed2b-457b-9998-b1de78f44217",
   "metadata": {
    "tags": []
   },
   "outputs": [
    {
     "data": {
      "text/plain": [
       "Variation\n",
       "Test       26959\n",
       "Control    23526\n",
       "Unknown    20106\n",
       "Name: count, dtype: int64"
      ]
     },
     "execution_count": 25,
     "metadata": {},
     "output_type": "execute_result"
    }
   ],
   "source": [
    "all['Variation'].value_counts(dropna=False)"
   ]
  },
  {
   "cell_type": "code",
   "execution_count": 32,
   "id": "431109a7-37c1-4b94-ad8f-0f5b34f7096c",
   "metadata": {
    "tags": []
   },
   "outputs": [],
   "source": [
    "# Divide the merged data frame into test, control and unknown groups\n",
    "\n",
    "groups = all.groupby('Variation')\n",
    "\n",
    "# Accessing groups and creating new DataFrames\n",
    "test = groups.get_group('Test')\n",
    "control = groups.get_group('Control')\n",
    "unknown = groups.get_group('Unknown')"
   ]
  },
  {
   "cell_type": "code",
   "execution_count": 33,
   "id": "9bfe4a60-6550-4127-bd04-9b3dbc38c36b",
   "metadata": {
    "tags": []
   },
   "outputs": [
    {
     "data": {
      "text/plain": [
       "is_confirmed\n",
       "True     18682\n",
       "False     8277\n",
       "Name: count, dtype: int64"
      ]
     },
     "execution_count": 33,
     "metadata": {},
     "output_type": "execute_result"
    }
   ],
   "source": [
    "test['is_confirmed'].value_counts()"
   ]
  },
  {
   "cell_type": "code",
   "execution_count": 34,
   "id": "d1504a58-bd81-4b1f-a103-4dd757f42017",
   "metadata": {
    "tags": []
   },
   "outputs": [
    {
     "data": {
      "text/plain": [
       "is_confirmed\n",
       "True     15428\n",
       "False     8098\n",
       "Name: count, dtype: int64"
      ]
     },
     "execution_count": 34,
     "metadata": {},
     "output_type": "execute_result"
    }
   ],
   "source": [
    "control['is_confirmed'].value_counts()"
   ]
  },
  {
   "cell_type": "code",
   "execution_count": 18,
   "id": "798b07ee-eef4-4ef4-a77c-1847695034b2",
   "metadata": {
    "tags": []
   },
   "outputs": [],
   "source": [
    "# sns.histplot(data=control, x='is_confirmed', bins=2)"
   ]
  }
 ],
 "metadata": {
  "kernelspec": {
   "display_name": "Python 3 (ipykernel)",
   "language": "python",
   "name": "python3"
  },
  "language_info": {
   "codemirror_mode": {
    "name": "ipython",
    "version": 3
   },
   "file_extension": ".py",
   "mimetype": "text/x-python",
   "name": "python",
   "nbconvert_exporter": "python",
   "pygments_lexer": "ipython3",
   "version": "3.11.5"
  }
 },
 "nbformat": 4,
 "nbformat_minor": 5
}

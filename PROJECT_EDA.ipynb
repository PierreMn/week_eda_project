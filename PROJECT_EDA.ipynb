{
 "cells": [
  {
   "cell_type": "code",
   "execution_count": 1,
   "id": "d05565ce-e6a5-4f03-8410-05da0bd4c5ba",
   "metadata": {
    "tags": []
   },
   "outputs": [],
   "source": [
    "from functions import *\n",
    "import pandas as pd\n",
    "import seaborn as sns\n",
    "import matplotlib.pyplot as plt\n",
    "import numpy as np\n",
    "\n",
    "from scipy.stats import chi2_contingency\n",
    "from scipy.stats.contingency import association"
   ]
  },
  {
   "cell_type": "code",
   "execution_count": 2,
   "id": "aba30bd9-5fd3-43f2-a437-a43231ed0f46",
   "metadata": {
    "tags": []
   },
   "outputs": [],
   "source": [
    "url_1 = 'https://raw.githubusercontent.com/data-bootcamp-v4/lessons/main/5_6_eda_inf_stats_tableau/project/files_for_project/df_final_demo.txt'\n",
    "url_2 = 'https://raw.githubusercontent.com/data-bootcamp-v4/lessons/main/5_6_eda_inf_stats_tableau/project/files_for_project/df_final_experiment_clients.txt'\n",
    "url_3 = 'https://raw.githubusercontent.com/data-bootcamp-v4/lessons/main/5_6_eda_inf_stats_tableau/project/files_for_project/df_final_web_data_pt_1.txt'\n",
    "url_4 = 'https://raw.githubusercontent.com/data-bootcamp-v4/lessons/main/5_6_eda_inf_stats_tableau/project/files_for_project/df_final_web_data_pt_2.txt'"
   ]
  },
  {
   "cell_type": "code",
   "execution_count": 3,
   "id": "27478573-0b02-4a1f-b481-fb35f13bd219",
   "metadata": {
    "tags": []
   },
   "outputs": [],
   "source": [
    "client_profile = pd.read_csv(url_1)\n",
    "exp_client = pd.read_csv(url_2)"
   ]
  },
  {
   "cell_type": "code",
   "execution_count": 4,
   "id": "8937105a-3cc9-4872-948d-79fa7af9c0d6",
   "metadata": {
    "tags": []
   },
   "outputs": [],
   "source": [
    "df_1 = pd.read_csv(url_3, parse_dates=['date_time'])\n",
    "df_2 = pd.read_csv(url_4, parse_dates=['date_time'])"
   ]
  },
  {
   "cell_type": "code",
   "execution_count": 5,
   "id": "5c1f3519-5112-4f64-9dd8-bf3d654f49f5",
   "metadata": {
    "tags": []
   },
   "outputs": [],
   "source": [
    "# Concat Digital Footprints (df_final_web_data) pt_1 and pt_2 into one file:\n",
    "df = pd.concat([df_1, df_2])\n",
    "\n",
    "# Remove duplicated rows in merged digital footprints file 'df'\n",
    "# df.duplicated().sum() - there are 10764 duplicated rows\n",
    "df.drop_duplicates(inplace=True)"
   ]
  },
  {
   "cell_type": "code",
   "execution_count": 6,
   "id": "27699e10-04cc-4c94-8e77-9a61b116de83",
   "metadata": {
    "tags": []
   },
   "outputs": [],
   "source": [
    "# Merge client profiles file (df_final_demo.txt) with experiment roster (df_final_experiment_clients.txt)\n",
    "\n",
    "clients = pd.merge(client_profile, exp_client, on='client_id', how='outer')"
   ]
  },
  {
   "cell_type": "code",
   "execution_count": 7,
   "id": "b8499ae3-25a3-4bc6-8bb6-1e2665d8ce7c",
   "metadata": {
    "tags": []
   },
   "outputs": [],
   "source": [
    "# Cleaning 'clients' file:\n",
    "# 1. Fill rows wiht NaN value in 'Variation' column with 'Uknown' - 20109 rows\n",
    "# 2. Drop row with NaN value in 'gender' column - 12 rows\n",
    "# 3. Drop rows with 'X' value in 'gender column' - 2 rows\n",
    "# 4. Drop row with NaN value in 'age' column - 1 row\n",
    "\n",
    "#1\n",
    "#clients = clients.dropna(subset=['Variation']) \n",
    "clients['Variation'] = clients['Variation'].fillna('Unknown')\n",
    "\n",
    "#2\n",
    "clients = clients.dropna(subset=['gendr']) \n",
    "\n",
    "#3\n",
    "clients.drop(clients[clients['gendr'] == 'X'].index, inplace=True)\n",
    "\n",
    "#4\n",
    "clients = clients.dropna(subset=['clnt_age']) "
   ]
  },
  {
   "cell_type": "code",
   "execution_count": 8,
   "id": "28d1afcd-0fa0-4edc-a0b2-ebd0c205a309",
   "metadata": {
    "tags": []
   },
   "outputs": [],
   "source": [
    "df_time , df_avg_step_durations = calc_avg_step_duration(df)\n",
    "\n",
    "df_time_errors, df_client_change = detect_process_changes(df_time)\n",
    "\n",
    "df_client_visits = nr_of_visits(df)\n",
    "\n",
    "df_client_confirms = nr_of_each_step(df)\n",
    "\n",
    "clients_who_confirmed = clients_who_finished(df)\n",
    "\n",
    "clients_who_confirmed = clients_who_confirmed.set_index('client_id').sort_values(by='client_id')"
   ]
  },
  {
   "cell_type": "code",
   "execution_count": 9,
   "id": "063b0f5f-6c48-4624-8b2a-2e58e12b392a",
   "metadata": {
    "tags": []
   },
   "outputs": [],
   "source": [
    "# Call funtion 'data_summary' to create data frame with web data summary\n",
    "\n",
    "dfs =[df_avg_step_durations, df_client_change, df_client_visits, clients_who_confirmed, df_client_confirms]\n",
    "\n",
    "web_data_summary = data_summary(dfs)\n",
    "\n",
    "web_data_summary['avg_step_duration'] = pd.to_timedelta(web_data_summary['avg_step_duration'])"
   ]
  },
  {
   "cell_type": "code",
   "execution_count": 12,
   "id": "0c82e514-d56d-4dc0-837b-c512a552628f",
   "metadata": {
    "tags": []
   },
   "outputs": [],
   "source": [
    "# Merge web_data_summary with 'clients' data frame\n",
    "\n",
    "whole = pd.merge(clients, web_data_summary, on='client_id', how='outer')\n",
    "\n",
    "# Drop rows with NaN values\n",
    "whole = whole.dropna(subset='Variation')"
   ]
  },
  {
   "cell_type": "code",
   "execution_count": 15,
   "id": "6c4dd9f9-1e8f-48f9-bfee-3288fd02e901",
   "metadata": {
    "tags": []
   },
   "outputs": [],
   "source": [
    "# Use only data for 'Test' and 'Control' groups\n",
    "\n",
    "filtered = whole[whole['Variation'].isin(['Test', 'Control'])]\n"
   ]
  },
  {
   "cell_type": "code",
   "execution_count": 18,
   "id": "0f097017-b883-4196-b003-f9e51e8f5476",
   "metadata": {},
   "outputs": [],
   "source": [
    "#CSV Generation: \n",
    "filtered_csv_link = 'data/src/web_data_summary.csv'\n",
    "filtered.to_csv(filtered_csv_link, index=False)"
   ]
  },
  {
   "cell_type": "code",
   "execution_count": 69,
   "id": "672266ad-f7c7-444c-a1d2-e74459f51bb0",
   "metadata": {
    "tags": []
   },
   "outputs": [],
   "source": [
    "# Combine df_time_errors (web data footprint + additional columns with time and error counts) with clients table\n",
    "# Remove rows with NaN values in 'Variation' column (so we don't know if these are clients from test or control groups)\n",
    "\n",
    "total_web_df = pd.merge(df_time_errors, clients, on='client_id', how='left')\n",
    "total_web_df = total_web_df.dropna(subset='Variation')\n"
   ]
  },
  {
   "cell_type": "code",
   "execution_count": 71,
   "id": "72b168a5-3087-4743-8753-f591de416259",
   "metadata": {
    "tags": []
   },
   "outputs": [],
   "source": [
    "#CSV Generation of total_web_df: \n",
    "total_web_df_csv_link = 'data/src/total_web_data_df.csv'\n",
    "total_web_df.to_csv(total_web_df_csv_link, index=False)"
   ]
  }
 ],
 "metadata": {
  "kernelspec": {
   "display_name": "Python 3 (ipykernel)",
   "language": "python",
   "name": "python3"
  },
  "language_info": {
   "codemirror_mode": {
    "name": "ipython",
    "version": 3
   },
   "file_extension": ".py",
   "mimetype": "text/x-python",
   "name": "python",
   "nbconvert_exporter": "python",
   "pygments_lexer": "ipython3",
   "version": "3.11.5"
  }
 },
 "nbformat": 4,
 "nbformat_minor": 5
}

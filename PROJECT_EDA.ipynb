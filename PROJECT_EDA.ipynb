{
 "cells": [
  {
   "cell_type": "code",
   "execution_count": 1,
   "id": "d05565ce-e6a5-4f03-8410-05da0bd4c5ba",
   "metadata": {
    "tags": []
   },
   "outputs": [],
   "source": [
    "from functions import *\n",
    "import pandas as pd\n",
    "import seaborn as sns\n",
    "import matplotlib.pyplot as plt\n",
    "import numpy as np\n",
    "\n",
    "from scipy.stats import chi2_contingency\n",
    "from scipy.stats.contingency import association"
   ]
  },
  {
   "cell_type": "code",
   "execution_count": 2,
   "id": "aba30bd9-5fd3-43f2-a437-a43231ed0f46",
   "metadata": {
    "tags": []
   },
   "outputs": [],
   "source": [
    "url_1 = 'https://raw.githubusercontent.com/data-bootcamp-v4/lessons/main/5_6_eda_inf_stats_tableau/project/files_for_project/df_final_demo.txt'\n",
    "url_2 = 'https://raw.githubusercontent.com/data-bootcamp-v4/lessons/main/5_6_eda_inf_stats_tableau/project/files_for_project/df_final_experiment_clients.txt'\n",
    "url_3 = 'https://raw.githubusercontent.com/data-bootcamp-v4/lessons/main/5_6_eda_inf_stats_tableau/project/files_for_project/df_final_web_data_pt_1.txt'\n",
    "url_4 = 'https://raw.githubusercontent.com/data-bootcamp-v4/lessons/main/5_6_eda_inf_stats_tableau/project/files_for_project/df_final_web_data_pt_2.txt'"
   ]
  },
  {
   "cell_type": "code",
   "execution_count": 3,
   "id": "27478573-0b02-4a1f-b481-fb35f13bd219",
   "metadata": {
    "tags": []
   },
   "outputs": [],
   "source": [
    "client_profile = pd.read_csv(url_1)\n",
    "exp_client = pd.read_csv(url_2)"
   ]
  },
  {
   "cell_type": "code",
   "execution_count": 4,
   "id": "8937105a-3cc9-4872-948d-79fa7af9c0d6",
   "metadata": {
    "tags": []
   },
   "outputs": [],
   "source": [
    "df_1 = pd.read_csv(url_3, parse_dates=['date_time'])\n",
    "df_2 = pd.read_csv(url_4, parse_dates=['date_time'])"
   ]
  },
  {
   "cell_type": "code",
   "execution_count": 5,
   "id": "5c1f3519-5112-4f64-9dd8-bf3d654f49f5",
   "metadata": {
    "tags": []
   },
   "outputs": [],
   "source": [
    "# Concat Digital Footprints (df_final_web_data) pt_1 and pt_2 into one file:\n",
    "df = pd.concat([df_1, df_2])\n",
    "\n",
    "# Remove duplicated rows in merged digital footprints file 'df'\n",
    "# df.duplicated().sum() - there are 10764 duplicated rows\n",
    "df.drop_duplicates(inplace=True)"
   ]
  },
  {
   "cell_type": "code",
   "execution_count": 6,
   "id": "27699e10-04cc-4c94-8e77-9a61b116de83",
   "metadata": {
    "tags": []
   },
   "outputs": [],
   "source": [
    "# Merge client profiles file (df_final_demo.txt) with experiment roster (df_final_experiment_clients.txt)\n",
    "\n",
    "clients = pd.merge(client_profile, exp_client, on='client_id', how='outer')"
   ]
  },
  {
   "cell_type": "code",
   "execution_count": 7,
   "id": "b8499ae3-25a3-4bc6-8bb6-1e2665d8ce7c",
   "metadata": {
    "tags": []
   },
   "outputs": [],
   "source": [
    "# Cleaning 'clients' file:\n",
    "# 1. Fill rows wiht NaN value in 'Variation' column with 'Uknown' - 20109 rows\n",
    "# 2. Drop row with NaN value in 'gender' column - 12 rows\n",
    "# 3. Drop rows with 'X' value in 'gender column' - 2 rows\n",
    "# 4. Drop row with NaN value in 'age' column - 1 row\n",
    "\n",
    "#1\n",
    "#clients = clients.dropna(subset=['Variation']) \n",
    "clients['Variation'] = clients['Variation'].fillna('Unknown')\n",
    "\n",
    "#2\n",
    "clients = clients.dropna(subset=['gendr']) \n",
    "\n",
    "#3\n",
    "clients.drop(clients[clients['gendr'] == 'X'].index, inplace=True)\n",
    "\n",
    "#4\n",
    "clients = clients.dropna(subset=['clnt_age']) "
   ]
  },
  {
   "cell_type": "code",
   "execution_count": 8,
   "id": "0341b7c4-e464-44b0-a1ed-4cb6f3a7ebd2",
   "metadata": {
    "tags": []
   },
   "outputs": [],
   "source": [
    "# Call functions to calculate average step duration, nr of clients who confirmed, nr of visits, nr of confirmations per client, errors\n",
    "\n",
    "df_avg_step_durations = calc_avg_step_duration(df)\n",
    "\n",
    "clients_who_confirmed = clients_who_finished(df)\n",
    "clients_who_confirmed = clients_who_confirmed.set_index('client_id').sort_values(by='client_id')\n",
    "\n",
    "df_client_visits = nr_of_visits(df)\n",
    "\n",
    "#df_client_error = detect_process_errors(df)\n",
    "df_client_change = detect_process_changes(df)\n",
    "\n",
    "df_client_confirms = nr_of_confirms(df)"
   ]
  },
  {
   "cell_type": "code",
   "execution_count": 9,
   "id": "7d095641-47b9-4dfe-bf3a-8ab221f26c80",
   "metadata": {
    "tags": []
   },
   "outputs": [],
   "source": [
    "# Call funtion 'data_summary' to create data frame with web data summary\n",
    "\n",
    "dfs =[df_client_visits, clients_who_confirmed, df_avg_step_durations, df_client_confirms, df_client_change]\n",
    "\n",
    "web_data_summary = data_summary(dfs)"
   ]
  },
  {
   "cell_type": "code",
   "execution_count": 10,
   "id": "b607d4ef-c301-4946-9a88-5351523458b5",
   "metadata": {
    "tags": []
   },
   "outputs": [
    {
     "data": {
      "text/html": [
       "<div>\n",
       "<style scoped>\n",
       "    .dataframe tbody tr th:only-of-type {\n",
       "        vertical-align: middle;\n",
       "    }\n",
       "\n",
       "    .dataframe tbody tr th {\n",
       "        vertical-align: top;\n",
       "    }\n",
       "\n",
       "    .dataframe thead th {\n",
       "        text-align: right;\n",
       "    }\n",
       "</style>\n",
       "<table border=\"1\" class=\"dataframe\">\n",
       "  <thead>\n",
       "    <tr style=\"text-align: right;\">\n",
       "      <th></th>\n",
       "      <th>no_of_visits</th>\n",
       "      <th>is_confirmed</th>\n",
       "      <th>step_duration</th>\n",
       "      <th>no_of_confirms</th>\n",
       "      <th>had_error</th>\n",
       "      <th>error_count</th>\n",
       "      <th>had_progress</th>\n",
       "      <th>progress_count</th>\n",
       "    </tr>\n",
       "    <tr>\n",
       "      <th>client_id</th>\n",
       "      <th></th>\n",
       "      <th></th>\n",
       "      <th></th>\n",
       "      <th></th>\n",
       "      <th></th>\n",
       "      <th></th>\n",
       "      <th></th>\n",
       "      <th></th>\n",
       "    </tr>\n",
       "  </thead>\n",
       "  <tbody>\n",
       "    <tr>\n",
       "      <th>169</th>\n",
       "      <td>1</td>\n",
       "      <td>True</td>\n",
       "      <td>0 days 00:00:53.250000</td>\n",
       "      <td>1</td>\n",
       "      <td>False</td>\n",
       "      <td>0</td>\n",
       "      <td>True</td>\n",
       "      <td>4</td>\n",
       "    </tr>\n",
       "    <tr>\n",
       "      <th>336</th>\n",
       "      <td>1</td>\n",
       "      <td>False</td>\n",
       "      <td>0 days 00:15:48</td>\n",
       "      <td>0</td>\n",
       "      <td>False</td>\n",
       "      <td>0</td>\n",
       "      <td>False</td>\n",
       "      <td>0</td>\n",
       "    </tr>\n",
       "    <tr>\n",
       "      <th>546</th>\n",
       "      <td>1</td>\n",
       "      <td>True</td>\n",
       "      <td>0 days 00:00:33.250000</td>\n",
       "      <td>1</td>\n",
       "      <td>False</td>\n",
       "      <td>0</td>\n",
       "      <td>True</td>\n",
       "      <td>4</td>\n",
       "    </tr>\n",
       "    <tr>\n",
       "      <th>555</th>\n",
       "      <td>1</td>\n",
       "      <td>True</td>\n",
       "      <td>0 days 00:00:39.500000</td>\n",
       "      <td>1</td>\n",
       "      <td>False</td>\n",
       "      <td>0</td>\n",
       "      <td>True</td>\n",
       "      <td>4</td>\n",
       "    </tr>\n",
       "    <tr>\n",
       "      <th>647</th>\n",
       "      <td>1</td>\n",
       "      <td>True</td>\n",
       "      <td>0 days 00:01:34.250000</td>\n",
       "      <td>1</td>\n",
       "      <td>False</td>\n",
       "      <td>0</td>\n",
       "      <td>True</td>\n",
       "      <td>4</td>\n",
       "    </tr>\n",
       "  </tbody>\n",
       "</table>\n",
       "</div>"
      ],
      "text/plain": [
       "           no_of_visits  is_confirmed           step_duration  no_of_confirms  \\\n",
       "client_id                                                                       \n",
       "169                   1          True  0 days 00:00:53.250000               1   \n",
       "336                   1         False         0 days 00:15:48               0   \n",
       "546                   1          True  0 days 00:00:33.250000               1   \n",
       "555                   1          True  0 days 00:00:39.500000               1   \n",
       "647                   1          True  0 days 00:01:34.250000               1   \n",
       "\n",
       "           had_error  error_count  had_progress  progress_count  \n",
       "client_id                                                        \n",
       "169            False            0          True               4  \n",
       "336            False            0         False               0  \n",
       "546            False            0          True               4  \n",
       "555            False            0          True               4  \n",
       "647            False            0          True               4  "
      ]
     },
     "execution_count": 10,
     "metadata": {},
     "output_type": "execute_result"
    }
   ],
   "source": [
    "# df_avg_step_durations\n",
    "web_data_summary.head()"
   ]
  },
  {
   "cell_type": "code",
   "execution_count": 11,
   "id": "a831aad4-8b4c-4cc9-bece-22e2e0aaa9ce",
   "metadata": {
    "tags": []
   },
   "outputs": [],
   "source": [
    "# clients_who_confirmed"
   ]
  },
  {
   "cell_type": "code",
   "execution_count": 12,
   "id": "b88b80fc-db91-46d4-932f-69c266d162a5",
   "metadata": {
    "tags": []
   },
   "outputs": [],
   "source": [
    "# df_client_visits"
   ]
  },
  {
   "cell_type": "code",
   "execution_count": 13,
   "id": "52175687-89cc-4363-a431-20e62575ddba",
   "metadata": {
    "tags": []
   },
   "outputs": [],
   "source": [
    "# df_client_error"
   ]
  },
  {
   "cell_type": "code",
   "execution_count": 14,
   "id": "35b0c0d9-7db5-403c-a569-927d86ff3651",
   "metadata": {
    "tags": []
   },
   "outputs": [],
   "source": [
    "# df_client_confirms"
   ]
  },
  {
   "cell_type": "code",
   "execution_count": 15,
   "id": "4049557e-d358-4b24-99f5-1d94daefe983",
   "metadata": {
    "tags": []
   },
   "outputs": [
    {
     "data": {
      "text/html": [
       "<div>\n",
       "<style scoped>\n",
       "    .dataframe tbody tr th:only-of-type {\n",
       "        vertical-align: middle;\n",
       "    }\n",
       "\n",
       "    .dataframe tbody tr th {\n",
       "        vertical-align: top;\n",
       "    }\n",
       "\n",
       "    .dataframe thead th {\n",
       "        text-align: right;\n",
       "    }\n",
       "</style>\n",
       "<table border=\"1\" class=\"dataframe\">\n",
       "  <thead>\n",
       "    <tr style=\"text-align: right;\">\n",
       "      <th></th>\n",
       "      <th>no_of_visits</th>\n",
       "      <th>is_confirmed</th>\n",
       "      <th>step_duration</th>\n",
       "      <th>no_of_confirms</th>\n",
       "      <th>had_error</th>\n",
       "      <th>error_count</th>\n",
       "      <th>had_progress</th>\n",
       "      <th>progress_count</th>\n",
       "    </tr>\n",
       "    <tr>\n",
       "      <th>client_id</th>\n",
       "      <th></th>\n",
       "      <th></th>\n",
       "      <th></th>\n",
       "      <th></th>\n",
       "      <th></th>\n",
       "      <th></th>\n",
       "      <th></th>\n",
       "      <th></th>\n",
       "    </tr>\n",
       "  </thead>\n",
       "  <tbody>\n",
       "    <tr>\n",
       "      <th>169</th>\n",
       "      <td>1</td>\n",
       "      <td>True</td>\n",
       "      <td>0 days 00:00:53.250000</td>\n",
       "      <td>1</td>\n",
       "      <td>False</td>\n",
       "      <td>0</td>\n",
       "      <td>True</td>\n",
       "      <td>4</td>\n",
       "    </tr>\n",
       "    <tr>\n",
       "      <th>336</th>\n",
       "      <td>1</td>\n",
       "      <td>False</td>\n",
       "      <td>0 days 00:15:48</td>\n",
       "      <td>0</td>\n",
       "      <td>False</td>\n",
       "      <td>0</td>\n",
       "      <td>False</td>\n",
       "      <td>0</td>\n",
       "    </tr>\n",
       "    <tr>\n",
       "      <th>546</th>\n",
       "      <td>1</td>\n",
       "      <td>True</td>\n",
       "      <td>0 days 00:00:33.250000</td>\n",
       "      <td>1</td>\n",
       "      <td>False</td>\n",
       "      <td>0</td>\n",
       "      <td>True</td>\n",
       "      <td>4</td>\n",
       "    </tr>\n",
       "    <tr>\n",
       "      <th>555</th>\n",
       "      <td>1</td>\n",
       "      <td>True</td>\n",
       "      <td>0 days 00:00:39.500000</td>\n",
       "      <td>1</td>\n",
       "      <td>False</td>\n",
       "      <td>0</td>\n",
       "      <td>True</td>\n",
       "      <td>4</td>\n",
       "    </tr>\n",
       "    <tr>\n",
       "      <th>647</th>\n",
       "      <td>1</td>\n",
       "      <td>True</td>\n",
       "      <td>0 days 00:01:34.250000</td>\n",
       "      <td>1</td>\n",
       "      <td>False</td>\n",
       "      <td>0</td>\n",
       "      <td>True</td>\n",
       "      <td>4</td>\n",
       "    </tr>\n",
       "    <tr>\n",
       "      <th>...</th>\n",
       "      <td>...</td>\n",
       "      <td>...</td>\n",
       "      <td>...</td>\n",
       "      <td>...</td>\n",
       "      <td>...</td>\n",
       "      <td>...</td>\n",
       "      <td>...</td>\n",
       "      <td>...</td>\n",
       "    </tr>\n",
       "    <tr>\n",
       "      <th>9999729</th>\n",
       "      <td>3</td>\n",
       "      <td>True</td>\n",
       "      <td>0 days 00:01:07.500000</td>\n",
       "      <td>1</td>\n",
       "      <td>True</td>\n",
       "      <td>2</td>\n",
       "      <td>True</td>\n",
       "      <td>7</td>\n",
       "    </tr>\n",
       "    <tr>\n",
       "      <th>9999768</th>\n",
       "      <td>1</td>\n",
       "      <td>True</td>\n",
       "      <td>0 days 00:00:44.181818181</td>\n",
       "      <td>1</td>\n",
       "      <td>True</td>\n",
       "      <td>3</td>\n",
       "      <td>True</td>\n",
       "      <td>7</td>\n",
       "    </tr>\n",
       "    <tr>\n",
       "      <th>9999832</th>\n",
       "      <td>1</td>\n",
       "      <td>False</td>\n",
       "      <td>0 days 00:00:08</td>\n",
       "      <td>0</td>\n",
       "      <td>False</td>\n",
       "      <td>0</td>\n",
       "      <td>True</td>\n",
       "      <td>1</td>\n",
       "    </tr>\n",
       "    <tr>\n",
       "      <th>9999839</th>\n",
       "      <td>1</td>\n",
       "      <td>True</td>\n",
       "      <td>0 days 00:00:49.600000</td>\n",
       "      <td>1</td>\n",
       "      <td>False</td>\n",
       "      <td>0</td>\n",
       "      <td>True</td>\n",
       "      <td>4</td>\n",
       "    </tr>\n",
       "    <tr>\n",
       "      <th>9999875</th>\n",
       "      <td>1</td>\n",
       "      <td>True</td>\n",
       "      <td>0 days 00:01:43.600000</td>\n",
       "      <td>1</td>\n",
       "      <td>False</td>\n",
       "      <td>0</td>\n",
       "      <td>True</td>\n",
       "      <td>4</td>\n",
       "    </tr>\n",
       "  </tbody>\n",
       "</table>\n",
       "<p>120157 rows × 8 columns</p>\n",
       "</div>"
      ],
      "text/plain": [
       "           no_of_visits  is_confirmed              step_duration  \\\n",
       "client_id                                                          \n",
       "169                   1          True     0 days 00:00:53.250000   \n",
       "336                   1         False            0 days 00:15:48   \n",
       "546                   1          True     0 days 00:00:33.250000   \n",
       "555                   1          True     0 days 00:00:39.500000   \n",
       "647                   1          True     0 days 00:01:34.250000   \n",
       "...                 ...           ...                        ...   \n",
       "9999729               3          True     0 days 00:01:07.500000   \n",
       "9999768               1          True  0 days 00:00:44.181818181   \n",
       "9999832               1         False            0 days 00:00:08   \n",
       "9999839               1          True     0 days 00:00:49.600000   \n",
       "9999875               1          True     0 days 00:01:43.600000   \n",
       "\n",
       "           no_of_confirms  had_error  error_count  had_progress  \\\n",
       "client_id                                                         \n",
       "169                     1      False            0          True   \n",
       "336                     0      False            0         False   \n",
       "546                     1      False            0          True   \n",
       "555                     1      False            0          True   \n",
       "647                     1      False            0          True   \n",
       "...                   ...        ...          ...           ...   \n",
       "9999729                 1       True            2          True   \n",
       "9999768                 1       True            3          True   \n",
       "9999832                 0      False            0          True   \n",
       "9999839                 1      False            0          True   \n",
       "9999875                 1      False            0          True   \n",
       "\n",
       "           progress_count  \n",
       "client_id                  \n",
       "169                     4  \n",
       "336                     0  \n",
       "546                     4  \n",
       "555                     4  \n",
       "647                     4  \n",
       "...                   ...  \n",
       "9999729                 7  \n",
       "9999768                 7  \n",
       "9999832                 1  \n",
       "9999839                 4  \n",
       "9999875                 4  \n",
       "\n",
       "[120157 rows x 8 columns]"
      ]
     },
     "execution_count": 15,
     "metadata": {},
     "output_type": "execute_result"
    }
   ],
   "source": [
    "web_data_summary"
   ]
  },
  {
   "cell_type": "code",
   "execution_count": 16,
   "id": "df868339-9905-473d-9db9-3f8d3136ad4d",
   "metadata": {
    "tags": []
   },
   "outputs": [],
   "source": [
    "# Merge web_data_summary with 'clients' data frame\n",
    "\n",
    "all = pd.merge(clients, web_data_summary, on='client_id', how='outer')\n",
    "\n",
    "# Drop rows with NaN values\n",
    "all = all.dropna()"
   ]
  },
  {
   "cell_type": "code",
   "execution_count": 17,
   "id": "ae9b0083-ed2b-457b-9998-b1de78f44217",
   "metadata": {
    "tags": []
   },
   "outputs": [
    {
     "data": {
      "text/plain": [
       "Variation\n",
       "Test       26959\n",
       "Control    23526\n",
       "Unknown    20106\n",
       "Name: count, dtype: int64"
      ]
     },
     "execution_count": 17,
     "metadata": {},
     "output_type": "execute_result"
    }
   ],
   "source": [
    "all['Variation'].value_counts(dropna=False)"
   ]
  },
  {
   "cell_type": "code",
   "execution_count": 18,
   "id": "431109a7-37c1-4b94-ad8f-0f5b34f7096c",
   "metadata": {
    "tags": []
   },
   "outputs": [],
   "source": [
    "# Divide the merged data frame into test, control and unknown groups\n",
    "\n",
    "groups = all.groupby('Variation')\n",
    "\n",
    "# Accessing groups and creating new DataFrames\n",
    "test = groups.get_group('Test')\n",
    "control = groups.get_group('Control')\n",
    "unknown = groups.get_group('Unknown')"
   ]
  },
  {
   "cell_type": "code",
   "execution_count": 19,
   "id": "9bfe4a60-6550-4127-bd04-9b3dbc38c36b",
   "metadata": {
    "tags": []
   },
   "outputs": [
    {
     "data": {
      "text/plain": [
       "is_confirmed\n",
       "True     18682\n",
       "False     8277\n",
       "Name: count, dtype: int64"
      ]
     },
     "execution_count": 19,
     "metadata": {},
     "output_type": "execute_result"
    }
   ],
   "source": [
    "test['is_confirmed'].value_counts()"
   ]
  },
  {
   "cell_type": "code",
   "execution_count": 20,
   "id": "d1504a58-bd81-4b1f-a103-4dd757f42017",
   "metadata": {
    "tags": []
   },
   "outputs": [
    {
     "data": {
      "text/plain": [
       "is_confirmed\n",
       "True     15428\n",
       "False     8098\n",
       "Name: count, dtype: int64"
      ]
     },
     "execution_count": 20,
     "metadata": {},
     "output_type": "execute_result"
    }
   ],
   "source": [
    "control['is_confirmed'].value_counts()"
   ]
  },
  {
   "cell_type": "code",
   "execution_count": 21,
   "id": "798b07ee-eef4-4ef4-a77c-1847695034b2",
   "metadata": {
    "tags": []
   },
   "outputs": [],
   "source": [
    "# sns.histplot(data=control, x='is_confirmed', bins=2)"
   ]
  },
  {
   "cell_type": "code",
   "execution_count": null,
   "id": "3aec717c",
   "metadata": {},
   "outputs": [],
   "source": []
  },
  {
   "cell_type": "markdown",
   "id": "d95fdd50-30f4-40f7-8742-0ff2dad3801f",
   "metadata": {
    "tags": []
   },
   "source": [
    "## **Completion Rate:** The proportion of users who reach the final ‘confirm’ step.\n",
    "\n"
   ]
  },
  {
   "cell_type": "code",
   "execution_count": 56,
   "id": "ba688d56-7813-47d5-919d-4b989bef00c8",
   "metadata": {
    "tags": []
   },
   "outputs": [
    {
     "data": {
      "text/html": [
       "<div>\n",
       "<style scoped>\n",
       "    .dataframe tbody tr th:only-of-type {\n",
       "        vertical-align: middle;\n",
       "    }\n",
       "\n",
       "    .dataframe tbody tr th {\n",
       "        vertical-align: top;\n",
       "    }\n",
       "\n",
       "    .dataframe thead th {\n",
       "        text-align: right;\n",
       "    }\n",
       "</style>\n",
       "<table border=\"1\" class=\"dataframe\">\n",
       "  <thead>\n",
       "    <tr style=\"text-align: right;\">\n",
       "      <th></th>\n",
       "      <th>client_id</th>\n",
       "      <th>clnt_tenure_yr</th>\n",
       "      <th>clnt_tenure_mnth</th>\n",
       "      <th>clnt_age</th>\n",
       "      <th>gendr</th>\n",
       "      <th>num_accts</th>\n",
       "      <th>bal</th>\n",
       "      <th>calls_6_mnth</th>\n",
       "      <th>logons_6_mnth</th>\n",
       "      <th>Variation</th>\n",
       "      <th>no_of_visits</th>\n",
       "      <th>is_confirmed</th>\n",
       "      <th>step_duration</th>\n",
       "      <th>no_of_confirms</th>\n",
       "      <th>had_error</th>\n",
       "      <th>error_count</th>\n",
       "    </tr>\n",
       "  </thead>\n",
       "  <tbody>\n",
       "    <tr>\n",
       "      <th>0</th>\n",
       "      <td>836976</td>\n",
       "      <td>6.0</td>\n",
       "      <td>73.0</td>\n",
       "      <td>60.5</td>\n",
       "      <td>U</td>\n",
       "      <td>2.0</td>\n",
       "      <td>45105.30</td>\n",
       "      <td>6.0</td>\n",
       "      <td>9.0</td>\n",
       "      <td>Test</td>\n",
       "      <td>2</td>\n",
       "      <td>True</td>\n",
       "      <td>0 days 00:03:46</td>\n",
       "      <td>3</td>\n",
       "      <td>False</td>\n",
       "      <td>0</td>\n",
       "    </tr>\n",
       "    <tr>\n",
       "      <th>1</th>\n",
       "      <td>2304905</td>\n",
       "      <td>7.0</td>\n",
       "      <td>94.0</td>\n",
       "      <td>58.0</td>\n",
       "      <td>U</td>\n",
       "      <td>2.0</td>\n",
       "      <td>110860.30</td>\n",
       "      <td>6.0</td>\n",
       "      <td>9.0</td>\n",
       "      <td>Control</td>\n",
       "      <td>1</td>\n",
       "      <td>True</td>\n",
       "      <td>0 days 00:00:59</td>\n",
       "      <td>1</td>\n",
       "      <td>False</td>\n",
       "      <td>0</td>\n",
       "    </tr>\n",
       "    <tr>\n",
       "      <th>2</th>\n",
       "      <td>1439522</td>\n",
       "      <td>5.0</td>\n",
       "      <td>64.0</td>\n",
       "      <td>32.0</td>\n",
       "      <td>U</td>\n",
       "      <td>2.0</td>\n",
       "      <td>52467.79</td>\n",
       "      <td>6.0</td>\n",
       "      <td>9.0</td>\n",
       "      <td>Test</td>\n",
       "      <td>2</td>\n",
       "      <td>False</td>\n",
       "      <td>0 days 00:00:39</td>\n",
       "      <td>0</td>\n",
       "      <td>True</td>\n",
       "      <td>1</td>\n",
       "    </tr>\n",
       "    <tr>\n",
       "      <th>3</th>\n",
       "      <td>1562045</td>\n",
       "      <td>16.0</td>\n",
       "      <td>198.0</td>\n",
       "      <td>49.0</td>\n",
       "      <td>M</td>\n",
       "      <td>2.0</td>\n",
       "      <td>67454.65</td>\n",
       "      <td>3.0</td>\n",
       "      <td>6.0</td>\n",
       "      <td>Test</td>\n",
       "      <td>1</td>\n",
       "      <td>False</td>\n",
       "      <td>0</td>\n",
       "      <td>0</td>\n",
       "      <td>False</td>\n",
       "      <td>0</td>\n",
       "    </tr>\n",
       "    <tr>\n",
       "      <th>4</th>\n",
       "      <td>5126305</td>\n",
       "      <td>12.0</td>\n",
       "      <td>145.0</td>\n",
       "      <td>33.0</td>\n",
       "      <td>F</td>\n",
       "      <td>2.0</td>\n",
       "      <td>103671.75</td>\n",
       "      <td>0.0</td>\n",
       "      <td>3.0</td>\n",
       "      <td>Control</td>\n",
       "      <td>1</td>\n",
       "      <td>False</td>\n",
       "      <td>0</td>\n",
       "      <td>0</td>\n",
       "      <td>False</td>\n",
       "      <td>0</td>\n",
       "    </tr>\n",
       "    <tr>\n",
       "      <th>...</th>\n",
       "      <td>...</td>\n",
       "      <td>...</td>\n",
       "      <td>...</td>\n",
       "      <td>...</td>\n",
       "      <td>...</td>\n",
       "      <td>...</td>\n",
       "      <td>...</td>\n",
       "      <td>...</td>\n",
       "      <td>...</td>\n",
       "      <td>...</td>\n",
       "      <td>...</td>\n",
       "      <td>...</td>\n",
       "      <td>...</td>\n",
       "      <td>...</td>\n",
       "      <td>...</td>\n",
       "      <td>...</td>\n",
       "    </tr>\n",
       "    <tr>\n",
       "      <th>70586</th>\n",
       "      <td>7993686</td>\n",
       "      <td>4.0</td>\n",
       "      <td>56.0</td>\n",
       "      <td>38.5</td>\n",
       "      <td>U</td>\n",
       "      <td>3.0</td>\n",
       "      <td>1411062.68</td>\n",
       "      <td>5.0</td>\n",
       "      <td>5.0</td>\n",
       "      <td>Unknown</td>\n",
       "      <td>3</td>\n",
       "      <td>True</td>\n",
       "      <td>0 days 00:05:15.500000</td>\n",
       "      <td>4</td>\n",
       "      <td>False</td>\n",
       "      <td>0</td>\n",
       "    </tr>\n",
       "    <tr>\n",
       "      <th>70587</th>\n",
       "      <td>8981690</td>\n",
       "      <td>12.0</td>\n",
       "      <td>148.0</td>\n",
       "      <td>31.0</td>\n",
       "      <td>M</td>\n",
       "      <td>2.0</td>\n",
       "      <td>101867.07</td>\n",
       "      <td>6.0</td>\n",
       "      <td>6.0</td>\n",
       "      <td>Unknown</td>\n",
       "      <td>1</td>\n",
       "      <td>True</td>\n",
       "      <td>0 days 00:01:15.571428571</td>\n",
       "      <td>2</td>\n",
       "      <td>True</td>\n",
       "      <td>1</td>\n",
       "    </tr>\n",
       "    <tr>\n",
       "      <th>70588</th>\n",
       "      <td>333913</td>\n",
       "      <td>16.0</td>\n",
       "      <td>198.0</td>\n",
       "      <td>61.5</td>\n",
       "      <td>F</td>\n",
       "      <td>2.0</td>\n",
       "      <td>40745.00</td>\n",
       "      <td>3.0</td>\n",
       "      <td>3.0</td>\n",
       "      <td>Unknown</td>\n",
       "      <td>1</td>\n",
       "      <td>True</td>\n",
       "      <td>0 days 00:04:48.750000</td>\n",
       "      <td>1</td>\n",
       "      <td>False</td>\n",
       "      <td>0</td>\n",
       "    </tr>\n",
       "    <tr>\n",
       "      <th>70589</th>\n",
       "      <td>1573142</td>\n",
       "      <td>21.0</td>\n",
       "      <td>255.0</td>\n",
       "      <td>68.0</td>\n",
       "      <td>M</td>\n",
       "      <td>3.0</td>\n",
       "      <td>475114.69</td>\n",
       "      <td>4.0</td>\n",
       "      <td>4.0</td>\n",
       "      <td>Unknown</td>\n",
       "      <td>5</td>\n",
       "      <td>False</td>\n",
       "      <td>0 days 00:00:22.250000</td>\n",
       "      <td>0</td>\n",
       "      <td>True</td>\n",
       "      <td>3</td>\n",
       "    </tr>\n",
       "    <tr>\n",
       "      <th>70590</th>\n",
       "      <td>5602139</td>\n",
       "      <td>21.0</td>\n",
       "      <td>254.0</td>\n",
       "      <td>59.5</td>\n",
       "      <td>F</td>\n",
       "      <td>3.0</td>\n",
       "      <td>157498.73</td>\n",
       "      <td>7.0</td>\n",
       "      <td>7.0</td>\n",
       "      <td>Unknown</td>\n",
       "      <td>2</td>\n",
       "      <td>True</td>\n",
       "      <td>0 days 00:01:46.666666666</td>\n",
       "      <td>1</td>\n",
       "      <td>False</td>\n",
       "      <td>0</td>\n",
       "    </tr>\n",
       "  </tbody>\n",
       "</table>\n",
       "<p>70591 rows × 16 columns</p>\n",
       "</div>"
      ],
      "text/plain": [
       "       client_id  clnt_tenure_yr  clnt_tenure_mnth  clnt_age gendr  num_accts  \\\n",
       "0         836976             6.0              73.0      60.5     U        2.0   \n",
       "1        2304905             7.0              94.0      58.0     U        2.0   \n",
       "2        1439522             5.0              64.0      32.0     U        2.0   \n",
       "3        1562045            16.0             198.0      49.0     M        2.0   \n",
       "4        5126305            12.0             145.0      33.0     F        2.0   \n",
       "...          ...             ...               ...       ...   ...        ...   \n",
       "70586    7993686             4.0              56.0      38.5     U        3.0   \n",
       "70587    8981690            12.0             148.0      31.0     M        2.0   \n",
       "70588     333913            16.0             198.0      61.5     F        2.0   \n",
       "70589    1573142            21.0             255.0      68.0     M        3.0   \n",
       "70590    5602139            21.0             254.0      59.5     F        3.0   \n",
       "\n",
       "              bal  calls_6_mnth  logons_6_mnth Variation  no_of_visits  \\\n",
       "0        45105.30           6.0            9.0      Test             2   \n",
       "1       110860.30           6.0            9.0   Control             1   \n",
       "2        52467.79           6.0            9.0      Test             2   \n",
       "3        67454.65           3.0            6.0      Test             1   \n",
       "4       103671.75           0.0            3.0   Control             1   \n",
       "...           ...           ...            ...       ...           ...   \n",
       "70586  1411062.68           5.0            5.0   Unknown             3   \n",
       "70587   101867.07           6.0            6.0   Unknown             1   \n",
       "70588    40745.00           3.0            3.0   Unknown             1   \n",
       "70589   475114.69           4.0            4.0   Unknown             5   \n",
       "70590   157498.73           7.0            7.0   Unknown             2   \n",
       "\n",
       "       is_confirmed              step_duration  no_of_confirms  had_error  \\\n",
       "0              True            0 days 00:03:46               3      False   \n",
       "1              True            0 days 00:00:59               1      False   \n",
       "2             False            0 days 00:00:39               0       True   \n",
       "3             False                          0               0      False   \n",
       "4             False                          0               0      False   \n",
       "...             ...                        ...             ...        ...   \n",
       "70586          True     0 days 00:05:15.500000               4      False   \n",
       "70587          True  0 days 00:01:15.571428571               2       True   \n",
       "70588          True     0 days 00:04:48.750000               1      False   \n",
       "70589         False     0 days 00:00:22.250000               0       True   \n",
       "70590          True  0 days 00:01:46.666666666               1      False   \n",
       "\n",
       "       error_count  \n",
       "0                0  \n",
       "1                0  \n",
       "2                1  \n",
       "3                0  \n",
       "4                0  \n",
       "...            ...  \n",
       "70586            0  \n",
       "70587            1  \n",
       "70588            0  \n",
       "70589            3  \n",
       "70590            0  \n",
       "\n",
       "[70591 rows x 16 columns]"
      ]
     },
     "execution_count": 56,
     "metadata": {},
     "output_type": "execute_result"
    }
   ],
   "source": [
    "all"
   ]
  },
  {
   "cell_type": "code",
   "execution_count": 57,
   "id": "8b8a5d81-9a54-4802-b7b1-e7d0e5ebf831",
   "metadata": {
    "tags": []
   },
   "outputs": [],
   "source": [
    "# part = pd.merge(clients, df, on='client_id', how='outer')"
   ]
  },
  {
   "cell_type": "code",
   "execution_count": 58,
   "id": "895eeb50-ea2d-44b4-89c8-45812f144e95",
   "metadata": {
    "tags": []
   },
   "outputs": [],
   "source": [
    "# whole = pd.merge(part, web_data_summary, on='client_id', how='outer')"
   ]
  },
  {
   "cell_type": "code",
   "execution_count": 59,
   "id": "46ad6c88-e418-4af9-8a50-71fcb3a88dc1",
   "metadata": {
    "tags": []
   },
   "outputs": [],
   "source": [
    "# whole.dropna(inplace=True)"
   ]
  },
  {
   "cell_type": "code",
   "execution_count": 60,
   "id": "3730995e-2666-435a-acac-8c006de41a47",
   "metadata": {
    "tags": []
   },
   "outputs": [],
   "source": [
    "# whole['client_id'].nunique()"
   ]
  },
  {
   "cell_type": "code",
   "execution_count": 61,
   "id": "e07c1fc8-a487-4d72-a039-b44a66c299a1",
   "metadata": {
    "tags": []
   },
   "outputs": [
    {
     "data": {
      "text/plain": [
       "(70591, (70591, 16))"
      ]
     },
     "execution_count": 61,
     "metadata": {},
     "output_type": "execute_result"
    }
   ],
   "source": [
    "all['client_id'].nunique(), all.shape"
   ]
  },
  {
   "cell_type": "code",
   "execution_count": 62,
   "id": "bfbe8713-4883-41e0-84af-4c68219472de",
   "metadata": {
    "tags": []
   },
   "outputs": [
    {
     "data": {
      "text/plain": [
       "Variation\n",
       "Test       26959\n",
       "Control    23526\n",
       "Unknown    20106\n",
       "Name: count, dtype: int64"
      ]
     },
     "execution_count": 62,
     "metadata": {},
     "output_type": "execute_result"
    }
   ],
   "source": [
    "all['Variation'].value_counts()"
   ]
  },
  {
   "cell_type": "code",
   "execution_count": 22,
   "id": "cd7a6bf3-21bf-48d4-a99b-2cf710cdf6bb",
   "metadata": {
    "tags": []
   },
   "outputs": [],
   "source": [
    "#filtered = whole[whole['Variation'].isin(['Test', 'Control'])]\n",
    "\n",
    "filtered = all[all['Variation'].isin(['Test', 'Control'])]"
   ]
  },
  {
   "cell_type": "code",
   "execution_count": 23,
   "id": "9411296e",
   "metadata": {},
   "outputs": [],
   "source": [
    "#CSV Generation: \n",
    "filtered_csv_link = 'data/src/filtered.csv'\n",
    "filtered.to_csv(filtered_csv_link, index=False)"
   ]
  },
  {
   "cell_type": "code",
   "execution_count": 24,
   "id": "722b7485-5d27-4247-96e2-fb222b3a2608",
   "metadata": {
    "tags": []
   },
   "outputs": [
    {
     "data": {
      "text/plain": [
       "Variation  is_confirmed\n",
       "Control    True            15428\n",
       "           False            8098\n",
       "Test       True            18682\n",
       "           False            8277\n",
       "Name: count, dtype: int64"
      ]
     },
     "execution_count": 24,
     "metadata": {},
     "output_type": "execute_result"
    }
   ],
   "source": [
    "# Frequency table for 'MSZoning'\n",
    "filtered.groupby('Variation')['is_confirmed'].value_counts()"
   ]
  },
  {
   "cell_type": "code",
   "execution_count": 25,
   "id": "f2ce6303-bf93-4105-bb7c-4c401a1ea28c",
   "metadata": {
    "tags": []
   },
   "outputs": [
    {
     "data": {
      "text/plain": [
       "Variation  is_confirmed\n",
       "Control    True            0.655785\n",
       "           False           0.344215\n",
       "Test       True            0.692978\n",
       "           False           0.307022\n",
       "Name: proportion, dtype: float64"
      ]
     },
     "execution_count": 25,
     "metadata": {},
     "output_type": "execute_result"
    }
   ],
   "source": [
    "# Calculating the proportion of each unique value in the 'MSZoning'\n",
    "filtered.groupby('Variation')['is_confirmed'].value_counts(normalize=True)"
   ]
  },
  {
   "cell_type": "code",
   "execution_count": 20,
   "id": "ac60d7d6-3462-40b2-90d4-5ec75efe0c72",
   "metadata": {
    "tags": []
   },
   "outputs": [
    {
     "data": {
      "text/html": [
       "<div>\n",
       "<style scoped>\n",
       "    .dataframe tbody tr th:only-of-type {\n",
       "        vertical-align: middle;\n",
       "    }\n",
       "\n",
       "    .dataframe tbody tr th {\n",
       "        vertical-align: top;\n",
       "    }\n",
       "\n",
       "    .dataframe thead th {\n",
       "        text-align: right;\n",
       "    }\n",
       "</style>\n",
       "<table border=\"1\" class=\"dataframe\">\n",
       "  <thead>\n",
       "    <tr style=\"text-align: right;\">\n",
       "      <th></th>\n",
       "      <th>count</th>\n",
       "    </tr>\n",
       "    <tr>\n",
       "      <th>Variation</th>\n",
       "      <th></th>\n",
       "    </tr>\n",
       "  </thead>\n",
       "  <tbody>\n",
       "    <tr>\n",
       "      <th>Control</th>\n",
       "      <td>23526</td>\n",
       "    </tr>\n",
       "    <tr>\n",
       "      <th>Test</th>\n",
       "      <td>26959</td>\n",
       "    </tr>\n",
       "  </tbody>\n",
       "</table>\n",
       "</div>"
      ],
      "text/plain": [
       "           count\n",
       "Variation       \n",
       "Control    23526\n",
       "Test       26959"
      ]
     },
     "execution_count": 20,
     "metadata": {},
     "output_type": "execute_result"
    }
   ],
   "source": [
    "pd.DataFrame(filtered['Variation'].value_counts(ascending=True))"
   ]
  },
  {
   "cell_type": "code",
   "execution_count": 21,
   "id": "24cb782a-5c8e-4da3-a083-b5f8a9ccb894",
   "metadata": {
    "tags": []
   },
   "outputs": [
    {
     "data": {
      "text/plain": [
       "Variation\n",
       "Control    15428\n",
       "Test       18682\n",
       "Name: is_confirmed, dtype: int64"
      ]
     },
     "execution_count": 21,
     "metadata": {},
     "output_type": "execute_result"
    }
   ],
   "source": [
    "filtered.groupby('Variation')['is_confirmed'].sum()"
   ]
  },
  {
   "cell_type": "code",
   "execution_count": 22,
   "id": "d0f4afdc-b21c-4001-aeca-c4c09903dd45",
   "metadata": {
    "tags": []
   },
   "outputs": [],
   "source": [
    "crosstab_result = pd.crosstab(index=filtered['Variation'], columns=filtered['is_confirmed'])"
   ]
  },
  {
   "cell_type": "code",
   "execution_count": 23,
   "id": "607ff0fe-a27c-4c53-91f3-5a06c2047d88",
   "metadata": {
    "tags": []
   },
   "outputs": [],
   "source": [
    "crosstab_result['Total_nr_of_clients'] = filtered['Variation'].value_counts(ascending=True)"
   ]
  },
  {
   "cell_type": "code",
   "execution_count": 31,
   "id": "1ca5a1c3-db98-4b9a-b327-46d0a3ee2797",
   "metadata": {
    "tags": []
   },
   "outputs": [
    {
     "data": {
      "text/html": [
       "<div>\n",
       "<style scoped>\n",
       "    .dataframe tbody tr th:only-of-type {\n",
       "        vertical-align: middle;\n",
       "    }\n",
       "\n",
       "    .dataframe tbody tr th {\n",
       "        vertical-align: top;\n",
       "    }\n",
       "\n",
       "    .dataframe thead th {\n",
       "        text-align: right;\n",
       "    }\n",
       "</style>\n",
       "<table border=\"1\" class=\"dataframe\">\n",
       "  <thead>\n",
       "    <tr style=\"text-align: right;\">\n",
       "      <th></th>\n",
       "      <th>Nr_of_confirmed</th>\n",
       "      <th>Total_nr_of_clients</th>\n",
       "      <th>%_of_confirmed</th>\n",
       "    </tr>\n",
       "    <tr>\n",
       "      <th>Variation</th>\n",
       "      <th></th>\n",
       "      <th></th>\n",
       "      <th></th>\n",
       "    </tr>\n",
       "  </thead>\n",
       "  <tbody>\n",
       "    <tr>\n",
       "      <th>Control</th>\n",
       "      <td>15428</td>\n",
       "      <td>23526</td>\n",
       "      <td>65.58</td>\n",
       "    </tr>\n",
       "    <tr>\n",
       "      <th>Test</th>\n",
       "      <td>18682</td>\n",
       "      <td>26959</td>\n",
       "      <td>69.30</td>\n",
       "    </tr>\n",
       "  </tbody>\n",
       "</table>\n",
       "</div>"
      ],
      "text/plain": [
       "           Nr_of_confirmed  Total_nr_of_clients  %_of_confirmed\n",
       "Variation                                                      \n",
       "Control              15428                23526           65.58\n",
       "Test                 18682                26959           69.30"
      ]
     },
     "execution_count": 31,
     "metadata": {},
     "output_type": "execute_result"
    }
   ],
   "source": [
    "crosstab_result"
   ]
  },
  {
   "cell_type": "code",
   "execution_count": 28,
   "id": "e032dc48-bef5-4289-ab28-c872f62886f0",
   "metadata": {
    "tags": []
   },
   "outputs": [],
   "source": [
    "# crosstab_result.drop(False,axis=1, inplace=True)"
   ]
  },
  {
   "cell_type": "code",
   "execution_count": 29,
   "id": "9624ef65-edc0-4608-86cc-3544ce301236",
   "metadata": {
    "tags": []
   },
   "outputs": [],
   "source": [
    "crosstab_result['% of_confirmed'] = round(crosstab_result[True]/crosstab_result['Total_nr_of_clients']*100, 2)"
   ]
  },
  {
   "cell_type": "code",
   "execution_count": 30,
   "id": "09997354-8fac-464f-a6a5-4af4d4674a53",
   "metadata": {
    "tags": []
   },
   "outputs": [],
   "source": [
    "crosstab_result.columns = ['Nr_of_confirmed', 'Total_nr_of_clients', '%_of_confirmed']"
   ]
  },
  {
   "cell_type": "code",
   "execution_count": 77,
   "id": "afbb049b-4a80-4707-9de7-a446d7b3fccf",
   "metadata": {
    "tags": []
   },
   "outputs": [
    {
     "data": {
      "text/plain": [
       "<Axes: xlabel='Variation', ylabel='count'>"
      ]
     },
     "execution_count": 77,
     "metadata": {},
     "output_type": "execute_result"
    },
    {
     "data": {
      "image/png": "[encoded data removed]",
      "text/plain": [
       "<Figure size 640x480 with 1 Axes>"
      ]
     },
     "metadata": {},
     "output_type": "display_data"
    }
   ],
   "source": [
    "from matplotlib.colors import Normalize\n",
    "\n",
    "sns.countplot(data=filtered, x='Variation', hue='is_confirmed', hue_norm=Normalize())\n",
    "\n",
    "# it seem there is no change"
   ]
  },
  {
   "cell_type": "code",
   "execution_count": 79,
   "id": "4db59abd-7f7a-4975-8f41-ead09cea4a6e",
   "metadata": {
    "tags": []
   },
   "outputs": [],
   "source": [
    "# sns.countplot(data=filtered, x='Variation', hue='is_confirmed')"
   ]
  },
  {
   "cell_type": "code",
   "execution_count": 116,
   "id": "00e75799-88ba-48ec-9900-bbc547349395",
   "metadata": {
    "tags": []
   },
   "outputs": [
    {
     "data": {
      "text/plain": [
       "<Axes: xlabel='Variation', ylabel='Count'>"
      ]
     },
     "execution_count": 116,
     "metadata": {},
     "output_type": "execute_result"
    },
    {
     "data": {
      "image/png": "[encoded data removed]",
      "text/plain": [
       "<Figure size 640x480 with 1 Axes>"
      ]
     },
     "metadata": {},
     "output_type": "display_data"
    }
   ],
   "source": [
    "sns.histplot(data=filtered, x='Variation', hue='is_confirmed )"
   ]
  },
  {
   "cell_type": "code",
   "execution_count": 32,
   "id": "fc764050-81ea-460b-8dbf-e5d22971d6a7",
   "metadata": {
    "tags": []
   },
   "outputs": [],
   "source": [
    "total_test = len(filtered[filtered['Variation']=='Test'])"
   ]
  },
  {
   "cell_type": "code",
   "execution_count": 33,
   "id": "0a0bea28-d338-4703-9947-66ad2f997e7d",
   "metadata": {
    "tags": []
   },
   "outputs": [],
   "source": [
    "total_control = len(filtered[filtered['Variation']=='Control'])"
   ]
  },
  {
   "cell_type": "code",
   "execution_count": 34,
   "id": "dcef1a4b-7340-40c9-9635-94080fe171f7",
   "metadata": {
    "tags": []
   },
   "outputs": [],
   "source": [
    "confirmed_test = filtered[filtered['Variation']=='Test']['is_confirmed'].sum()"
   ]
  },
  {
   "cell_type": "code",
   "execution_count": 35,
   "id": "0ebef2d3-2170-49a7-aa45-b512eec2b480",
   "metadata": {
    "tags": []
   },
   "outputs": [],
   "source": [
    "confirmed_control = filtered[filtered['Variation']=='Control']['is_confirmed'].sum()"
   ]
  },
  {
   "cell_type": "code",
   "execution_count": 36,
   "id": "cc70c387-f3f3-4bff-b8a6-02a6904e3948",
   "metadata": {
    "tags": []
   },
   "outputs": [
    {
     "data": {
      "text/plain": [
       "69.29782261953336"
      ]
     },
     "execution_count": 36,
     "metadata": {},
     "output_type": "execute_result"
    }
   ],
   "source": [
    "confirmed_test/total_test*100"
   ]
  },
  {
   "cell_type": "code",
   "execution_count": 37,
   "id": "bfd84d7a-743b-4a4e-8ed8-4f2f6152920f",
   "metadata": {
    "tags": []
   },
   "outputs": [
    {
     "data": {
      "text/plain": [
       "65.57850888378815"
      ]
     },
     "execution_count": 37,
     "metadata": {},
     "output_type": "execute_result"
    }
   ],
   "source": [
    "confirmed_control/total_control*100"
   ]
  },
  {
   "cell_type": "code",
   "execution_count": 58,
   "id": "0016dcdf-908e-4df6-9812-7b1ec62990ba",
   "metadata": {
    "tags": []
   },
   "outputs": [
    {
     "data": {
      "text/html": [
       "<div>\n",
       "<style scoped>\n",
       "    .dataframe tbody tr th:only-of-type {\n",
       "        vertical-align: middle;\n",
       "    }\n",
       "\n",
       "    .dataframe tbody tr th {\n",
       "        vertical-align: top;\n",
       "    }\n",
       "\n",
       "    .dataframe thead th {\n",
       "        text-align: right;\n",
       "    }\n",
       "</style>\n",
       "<table border=\"1\" class=\"dataframe\">\n",
       "  <thead>\n",
       "    <tr style=\"text-align: right;\">\n",
       "      <th></th>\n",
       "      <th>client_id</th>\n",
       "      <th>clnt_tenure_yr</th>\n",
       "      <th>clnt_tenure_mnth</th>\n",
       "      <th>clnt_age</th>\n",
       "      <th>gendr</th>\n",
       "      <th>num_accts</th>\n",
       "      <th>bal</th>\n",
       "      <th>calls_6_mnth</th>\n",
       "      <th>logons_6_mnth</th>\n",
       "      <th>Variation</th>\n",
       "      <th>no_of_visits</th>\n",
       "      <th>is_confirmed</th>\n",
       "      <th>step_duration</th>\n",
       "      <th>time_in_min</th>\n",
       "      <th>no_of_confirms</th>\n",
       "      <th>had_error</th>\n",
       "      <th>error_count</th>\n",
       "    </tr>\n",
       "  </thead>\n",
       "  <tbody>\n",
       "    <tr>\n",
       "      <th>0</th>\n",
       "      <td>836976</td>\n",
       "      <td>6.0</td>\n",
       "      <td>73.0</td>\n",
       "      <td>60.5</td>\n",
       "      <td>U</td>\n",
       "      <td>2.0</td>\n",
       "      <td>45105.30</td>\n",
       "      <td>6.0</td>\n",
       "      <td>9.0</td>\n",
       "      <td>Test</td>\n",
       "      <td>2</td>\n",
       "      <td>True</td>\n",
       "      <td>0 days 00:03:46</td>\n",
       "      <td>3.766667</td>\n",
       "      <td>3</td>\n",
       "      <td>False</td>\n",
       "      <td>0</td>\n",
       "    </tr>\n",
       "    <tr>\n",
       "      <th>2</th>\n",
       "      <td>1439522</td>\n",
       "      <td>5.0</td>\n",
       "      <td>64.0</td>\n",
       "      <td>32.0</td>\n",
       "      <td>U</td>\n",
       "      <td>2.0</td>\n",
       "      <td>52467.79</td>\n",
       "      <td>6.0</td>\n",
       "      <td>9.0</td>\n",
       "      <td>Test</td>\n",
       "      <td>2</td>\n",
       "      <td>False</td>\n",
       "      <td>0 days 00:00:39</td>\n",
       "      <td>0.650000</td>\n",
       "      <td>0</td>\n",
       "      <td>True</td>\n",
       "      <td>1</td>\n",
       "    </tr>\n",
       "    <tr>\n",
       "      <th>3</th>\n",
       "      <td>1562045</td>\n",
       "      <td>16.0</td>\n",
       "      <td>198.0</td>\n",
       "      <td>49.0</td>\n",
       "      <td>M</td>\n",
       "      <td>2.0</td>\n",
       "      <td>67454.65</td>\n",
       "      <td>3.0</td>\n",
       "      <td>6.0</td>\n",
       "      <td>Test</td>\n",
       "      <td>1</td>\n",
       "      <td>False</td>\n",
       "      <td>0</td>\n",
       "      <td>0.000000</td>\n",
       "      <td>0</td>\n",
       "      <td>False</td>\n",
       "      <td>0</td>\n",
       "    </tr>\n",
       "    <tr>\n",
       "      <th>7</th>\n",
       "      <td>388801</td>\n",
       "      <td>30.0</td>\n",
       "      <td>361.0</td>\n",
       "      <td>57.5</td>\n",
       "      <td>M</td>\n",
       "      <td>5.0</td>\n",
       "      <td>522498.72</td>\n",
       "      <td>1.0</td>\n",
       "      <td>4.0</td>\n",
       "      <td>Test</td>\n",
       "      <td>1</td>\n",
       "      <td>True</td>\n",
       "      <td>0 days 00:02:27.250000</td>\n",
       "      <td>2.454167</td>\n",
       "      <td>1</td>\n",
       "      <td>False</td>\n",
       "      <td>0</td>\n",
       "    </tr>\n",
       "    <tr>\n",
       "      <th>9</th>\n",
       "      <td>8198645</td>\n",
       "      <td>15.0</td>\n",
       "      <td>189.0</td>\n",
       "      <td>54.5</td>\n",
       "      <td>F</td>\n",
       "      <td>2.0</td>\n",
       "      <td>382303.83</td>\n",
       "      <td>6.0</td>\n",
       "      <td>9.0</td>\n",
       "      <td>Test</td>\n",
       "      <td>1</td>\n",
       "      <td>True</td>\n",
       "      <td>0 days 00:02:25.500000</td>\n",
       "      <td>2.425000</td>\n",
       "      <td>1</td>\n",
       "      <td>False</td>\n",
       "      <td>0</td>\n",
       "    </tr>\n",
       "    <tr>\n",
       "      <th>...</th>\n",
       "      <td>...</td>\n",
       "      <td>...</td>\n",
       "      <td>...</td>\n",
       "      <td>...</td>\n",
       "      <td>...</td>\n",
       "      <td>...</td>\n",
       "      <td>...</td>\n",
       "      <td>...</td>\n",
       "      <td>...</td>\n",
       "      <td>...</td>\n",
       "      <td>...</td>\n",
       "      <td>...</td>\n",
       "      <td>...</td>\n",
       "      <td>...</td>\n",
       "      <td>...</td>\n",
       "      <td>...</td>\n",
       "      <td>...</td>\n",
       "    </tr>\n",
       "    <tr>\n",
       "      <th>50477</th>\n",
       "      <td>501496</td>\n",
       "      <td>23.0</td>\n",
       "      <td>281.0</td>\n",
       "      <td>35.0</td>\n",
       "      <td>F</td>\n",
       "      <td>2.0</td>\n",
       "      <td>32529.34</td>\n",
       "      <td>0.0</td>\n",
       "      <td>3.0</td>\n",
       "      <td>Test</td>\n",
       "      <td>1</td>\n",
       "      <td>True</td>\n",
       "      <td>0 days 00:00:25.500000</td>\n",
       "      <td>0.425000</td>\n",
       "      <td>1</td>\n",
       "      <td>False</td>\n",
       "      <td>0</td>\n",
       "    </tr>\n",
       "    <tr>\n",
       "      <th>50480</th>\n",
       "      <td>1780858</td>\n",
       "      <td>21.0</td>\n",
       "      <td>262.0</td>\n",
       "      <td>68.5</td>\n",
       "      <td>M</td>\n",
       "      <td>3.0</td>\n",
       "      <td>372100.59</td>\n",
       "      <td>6.0</td>\n",
       "      <td>9.0</td>\n",
       "      <td>Test</td>\n",
       "      <td>2</td>\n",
       "      <td>True</td>\n",
       "      <td>0 days 00:01:29.400000</td>\n",
       "      <td>1.490000</td>\n",
       "      <td>2</td>\n",
       "      <td>False</td>\n",
       "      <td>0</td>\n",
       "    </tr>\n",
       "    <tr>\n",
       "      <th>50482</th>\n",
       "      <td>5826160</td>\n",
       "      <td>20.0</td>\n",
       "      <td>249.0</td>\n",
       "      <td>56.5</td>\n",
       "      <td>F</td>\n",
       "      <td>2.0</td>\n",
       "      <td>44837.16</td>\n",
       "      <td>2.0</td>\n",
       "      <td>5.0</td>\n",
       "      <td>Test</td>\n",
       "      <td>3</td>\n",
       "      <td>True</td>\n",
       "      <td>0 days 00:01:35</td>\n",
       "      <td>1.583333</td>\n",
       "      <td>6</td>\n",
       "      <td>False</td>\n",
       "      <td>0</td>\n",
       "    </tr>\n",
       "    <tr>\n",
       "      <th>50483</th>\n",
       "      <td>8739285</td>\n",
       "      <td>19.0</td>\n",
       "      <td>229.0</td>\n",
       "      <td>69.5</td>\n",
       "      <td>F</td>\n",
       "      <td>2.0</td>\n",
       "      <td>44994.24</td>\n",
       "      <td>1.0</td>\n",
       "      <td>4.0</td>\n",
       "      <td>Test</td>\n",
       "      <td>1</td>\n",
       "      <td>True</td>\n",
       "      <td>0 days 00:02:53</td>\n",
       "      <td>2.883333</td>\n",
       "      <td>1</td>\n",
       "      <td>False</td>\n",
       "      <td>0</td>\n",
       "    </tr>\n",
       "    <tr>\n",
       "      <th>50484</th>\n",
       "      <td>7468138</td>\n",
       "      <td>18.0</td>\n",
       "      <td>222.0</td>\n",
       "      <td>61.0</td>\n",
       "      <td>F</td>\n",
       "      <td>3.0</td>\n",
       "      <td>209278.15</td>\n",
       "      <td>0.0</td>\n",
       "      <td>3.0</td>\n",
       "      <td>Test</td>\n",
       "      <td>1</td>\n",
       "      <td>False</td>\n",
       "      <td>0 days 00:04:12.200000</td>\n",
       "      <td>4.203333</td>\n",
       "      <td>0</td>\n",
       "      <td>True</td>\n",
       "      <td>1</td>\n",
       "    </tr>\n",
       "  </tbody>\n",
       "</table>\n",
       "<p>26959 rows × 17 columns</p>\n",
       "</div>"
      ],
      "text/plain": [
       "       client_id  clnt_tenure_yr  clnt_tenure_mnth  clnt_age gendr  num_accts  \\\n",
       "0         836976             6.0              73.0      60.5     U        2.0   \n",
       "2        1439522             5.0              64.0      32.0     U        2.0   \n",
       "3        1562045            16.0             198.0      49.0     M        2.0   \n",
       "7         388801            30.0             361.0      57.5     M        5.0   \n",
       "9        8198645            15.0             189.0      54.5     F        2.0   \n",
       "...          ...             ...               ...       ...   ...        ...   \n",
       "50477     501496            23.0             281.0      35.0     F        2.0   \n",
       "50480    1780858            21.0             262.0      68.5     M        3.0   \n",
       "50482    5826160            20.0             249.0      56.5     F        2.0   \n",
       "50483    8739285            19.0             229.0      69.5     F        2.0   \n",
       "50484    7468138            18.0             222.0      61.0     F        3.0   \n",
       "\n",
       "             bal  calls_6_mnth  logons_6_mnth Variation  no_of_visits  \\\n",
       "0       45105.30           6.0            9.0      Test             2   \n",
       "2       52467.79           6.0            9.0      Test             2   \n",
       "3       67454.65           3.0            6.0      Test             1   \n",
       "7      522498.72           1.0            4.0      Test             1   \n",
       "9      382303.83           6.0            9.0      Test             1   \n",
       "...          ...           ...            ...       ...           ...   \n",
       "50477   32529.34           0.0            3.0      Test             1   \n",
       "50480  372100.59           6.0            9.0      Test             2   \n",
       "50482   44837.16           2.0            5.0      Test             3   \n",
       "50483   44994.24           1.0            4.0      Test             1   \n",
       "50484  209278.15           0.0            3.0      Test             1   \n",
       "\n",
       "       is_confirmed           step_duration  time_in_min  no_of_confirms  \\\n",
       "0              True         0 days 00:03:46     3.766667               3   \n",
       "2             False         0 days 00:00:39     0.650000               0   \n",
       "3             False                       0     0.000000               0   \n",
       "7              True  0 days 00:02:27.250000     2.454167               1   \n",
       "9              True  0 days 00:02:25.500000     2.425000               1   \n",
       "...             ...                     ...          ...             ...   \n",
       "50477          True  0 days 00:00:25.500000     0.425000               1   \n",
       "50480          True  0 days 00:01:29.400000     1.490000               2   \n",
       "50482          True         0 days 00:01:35     1.583333               6   \n",
       "50483          True         0 days 00:02:53     2.883333               1   \n",
       "50484         False  0 days 00:04:12.200000     4.203333               0   \n",
       "\n",
       "       had_error  error_count  \n",
       "0          False            0  \n",
       "2           True            1  \n",
       "3          False            0  \n",
       "7          False            0  \n",
       "9          False            0  \n",
       "...          ...          ...  \n",
       "50477      False            0  \n",
       "50480      False            0  \n",
       "50482      False            0  \n",
       "50483      False            0  \n",
       "50484       True            1  \n",
       "\n",
       "[26959 rows x 17 columns]"
      ]
     },
     "execution_count": 58,
     "metadata": {},
     "output_type": "execute_result"
    }
   ],
   "source": [
    "test"
   ]
  },
  {
   "cell_type": "code",
   "execution_count": 60,
   "id": "9502aad8-d800-4299-832e-840c5bf03dfa",
   "metadata": {
    "tags": []
   },
   "outputs": [
    {
     "data": {
      "text/plain": [
       "5.178761560302029e-19"
      ]
     },
     "execution_count": 60,
     "metadata": {},
     "output_type": "execute_result"
    }
   ],
   "source": [
    "from scipy import stats\n",
    "\n",
    "# Null hypothesis = test and control group are the same\n",
    "\n",
    "stats.ttest_ind(test['is_confirmed'], control['is_confirmed']).pvalue"
   ]
  },
  {
   "cell_type": "code",
   "execution_count": 64,
   "id": "523cd941-d29e-4aef-8bb2-dac4fb603bca",
   "metadata": {
    "tags": []
   },
   "outputs": [
    {
     "data": {
      "text/html": [
       "<div>\n",
       "<style scoped>\n",
       "    .dataframe tbody tr th:only-of-type {\n",
       "        vertical-align: middle;\n",
       "    }\n",
       "\n",
       "    .dataframe tbody tr th {\n",
       "        vertical-align: top;\n",
       "    }\n",
       "\n",
       "    .dataframe thead th {\n",
       "        text-align: right;\n",
       "    }\n",
       "</style>\n",
       "<table border=\"1\" class=\"dataframe\">\n",
       "  <thead>\n",
       "    <tr style=\"text-align: right;\">\n",
       "      <th>is_confirmed</th>\n",
       "      <th>False</th>\n",
       "      <th>True</th>\n",
       "    </tr>\n",
       "    <tr>\n",
       "      <th>Variation</th>\n",
       "      <th></th>\n",
       "      <th></th>\n",
       "    </tr>\n",
       "  </thead>\n",
       "  <tbody>\n",
       "    <tr>\n",
       "      <th>Control</th>\n",
       "      <td>8098</td>\n",
       "      <td>15428</td>\n",
       "    </tr>\n",
       "    <tr>\n",
       "      <th>Test</th>\n",
       "      <td>8277</td>\n",
       "      <td>18682</td>\n",
       "    </tr>\n",
       "  </tbody>\n",
       "</table>\n",
       "</div>"
      ],
      "text/plain": [
       "is_confirmed  False  True \n",
       "Variation                 \n",
       "Control        8098  15428\n",
       "Test           8277  18682"
      ]
     },
     "execution_count": 64,
     "metadata": {},
     "output_type": "execute_result"
    }
   ],
   "source": [
    "#from scipy.stats import chi2_contingency\n",
    "\n",
    "# chi2, p_value, dof, expected = chi2_contingency(test['is_confirmed'].astype(int), control['is_confirmed'].astype(int))\n",
    "\n",
    "crosstab_corr = pd.crosstab(index=filtered['Variation'], columns=filtered['is_confirmed'])\n",
    "crosstab_corr"
   ]
  },
  {
   "cell_type": "code",
   "execution_count": 65,
   "id": "8d83d68d-0d6e-4392-bdf9-d20cb61a9685",
   "metadata": {
    "tags": []
   },
   "outputs": [],
   "source": [
    "chi2, p_value, dof, expected = chi2_contingency(crosstab_corr)"
   ]
  },
  {
   "cell_type": "code",
   "execution_count": 66,
   "id": "990cf8e1-1120-4dca-a467-cff9b5fdab14",
   "metadata": {
    "tags": []
   },
   "outputs": [
    {
     "data": {
      "text/plain": [
       "5.812391548282767e-19"
      ]
     },
     "execution_count": 66,
     "metadata": {},
     "output_type": "execute_result"
    }
   ],
   "source": [
    "p_value"
   ]
  },
  {
   "cell_type": "code",
   "execution_count": 67,
   "id": "d0ca4ca0-1cb8-4ef7-b70c-489625545d75",
   "metadata": {
    "tags": []
   },
   "outputs": [
    {
     "data": {
      "text/plain": [
       "0.03963302631771368"
      ]
     },
     "execution_count": 67,
     "metadata": {},
     "output_type": "execute_result"
    }
   ],
   "source": [
    "association(crosstab_corr, method=\"cramer\")"
   ]
  },
  {
   "cell_type": "code",
   "execution_count": 116,
   "id": "11eac2a6-0129-49c6-8515-7b5a5a886daa",
   "metadata": {
    "tags": []
   },
   "outputs": [],
   "source": [
    "#control['is_confirmed'].corr(test['clnt_age'], method='spearman')"
   ]
  },
  {
   "cell_type": "code",
   "execution_count": 113,
   "id": "5bbbdf3b-5766-4a5e-b136-6033b1776d6c",
   "metadata": {
    "tags": []
   },
   "outputs": [
    {
     "data": {
      "text/plain": [
       "-0.056056196048699006"
      ]
     },
     "execution_count": 113,
     "metadata": {},
     "output_type": "execute_result"
    }
   ],
   "source": [
    "filtered['is_confirmed'].corr(filtered['clnt_age'], method='pearson')"
   ]
  },
  {
   "cell_type": "code",
   "execution_count": 83,
   "id": "f2ca8a9c-68c7-4c04-8b3d-8b1eff593541",
   "metadata": {
    "tags": []
   },
   "outputs": [
    {
     "data": {
      "text/plain": [
       "-0.008670436057097157"
      ]
     },
     "execution_count": 83,
     "metadata": {},
     "output_type": "execute_result"
    }
   ],
   "source": [
    "filtered['is_confirmed'].corr(filtered['clnt_tenure_yr'])"
   ]
  },
  {
   "cell_type": "code",
   "execution_count": 93,
   "id": "174dfbe9-7fd7-4ea4-b438-73a58de6358c",
   "metadata": {
    "tags": []
   },
   "outputs": [
    {
     "data": {
      "text/plain": [
       "<Axes: xlabel='clnt_age', ylabel='is_confirmed'>"
      ]
     },
     "execution_count": 93,
     "metadata": {},
     "output_type": "execute_result"
    },
    {
     "data": {
      "image/png": "[encoded data removed]",
      "text/plain": [
       "<Figure size 640x480 with 1 Axes>"
      ]
     },
     "metadata": {},
     "output_type": "display_data"
    }
   ],
   "source": [
    "# filtered.groupby('clnt_age')['is_confirmed'].sum()\n",
    "sns.scatterplot(y=filtered.groupby('clnt_age')['is_confirmed'].sum(), x=filtered['clnt_age'], hue=filtered['is_confirmed'])"
   ]
  },
  {
   "cell_type": "code",
   "execution_count": 101,
   "id": "e9f99255-a544-4658-8ff2-506942bf0254",
   "metadata": {
    "tags": []
   },
   "outputs": [
    {
     "data": {
      "text/plain": [
       "<Axes: xlabel='clnt_age', ylabel='Count'>"
      ]
     },
     "execution_count": 101,
     "metadata": {},
     "output_type": "execute_result"
    },
    {
     "data": {
      "image/png": "[encoded data removed]",
      "text/plain": [
       "<Figure size 640x480 with 1 Axes>"
      ]
     },
     "metadata": {},
     "output_type": "display_data"
    }
   ],
   "source": [
    "sns.histplot(x=filtered['clnt_age'], hue=filtered['is_confirmed'], kde=True)"
   ]
  },
  {
   "cell_type": "code",
   "execution_count": 100,
   "id": "30f4dea0-a0ac-4485-a785-b3bbac0d7eb1",
   "metadata": {
    "tags": []
   },
   "outputs": [
    {
     "data": {
      "text/plain": [
       "<Axes: xlabel='clnt_tenure_yr', ylabel='Count'>"
      ]
     },
     "execution_count": 100,
     "metadata": {},
     "output_type": "execute_result"
    },
    {
     "data": {
      "image/png": "[encoded data removed]",
      "text/plain": [
       "<Figure size 640x480 with 1 Axes>"
      ]
     },
     "metadata": {},
     "output_type": "display_data"
    }
   ],
   "source": [
    "sns.histplot(x=filtered['clnt_tenure_yr'], hue=filtered['is_confirmed'],kde=True)"
   ]
  },
  {
   "cell_type": "code",
   "execution_count": 98,
   "id": "af5b9d76-d758-4985-b93e-41257f29359e",
   "metadata": {
    "tags": []
   },
   "outputs": [
    {
     "data": {
      "text/plain": [
       "TtestResult(statistic=-675.0463793369908, pvalue=0.0, df=100968.0)"
      ]
     },
     "execution_count": 98,
     "metadata": {},
     "output_type": "execute_result"
    }
   ],
   "source": [
    "stats.ttest_ind(filtered['is_confirmed'], filtered['clnt_age'])"
   ]
  },
  {
   "cell_type": "code",
   "execution_count": 99,
   "id": "1c8e73cd-f58e-424c-86f8-1673d0683988",
   "metadata": {
    "tags": []
   },
   "outputs": [
    {
     "data": {
      "text/plain": [
       "TtestResult(statistic=-371.06904158324113, pvalue=0.0, df=100968.0)"
      ]
     },
     "execution_count": 99,
     "metadata": {},
     "output_type": "execute_result"
    }
   ],
   "source": [
    "stats.ttest_ind(filtered['is_confirmed'], filtered['clnt_tenure_yr'])"
   ]
  },
  {
   "cell_type": "markdown",
   "id": "c6409593-5832-44be-88a7-d27aeae653e9",
   "metadata": {
    "tags": []
   },
   "source": [
    "## **Time Spent on Each Step:** The average duration users spend on each step"
   ]
  },
  {
   "cell_type": "code",
   "execution_count": 38,
   "id": "d8969f4c-0075-4439-9f96-3cbf562cfb16",
   "metadata": {
    "tags": []
   },
   "outputs": [
    {
     "data": {
      "text/html": [
       "<div>\n",
       "<style scoped>\n",
       "    .dataframe tbody tr th:only-of-type {\n",
       "        vertical-align: middle;\n",
       "    }\n",
       "\n",
       "    .dataframe tbody tr th {\n",
       "        vertical-align: top;\n",
       "    }\n",
       "\n",
       "    .dataframe thead th {\n",
       "        text-align: right;\n",
       "    }\n",
       "</style>\n",
       "<table border=\"1\" class=\"dataframe\">\n",
       "  <thead>\n",
       "    <tr style=\"text-align: right;\">\n",
       "      <th></th>\n",
       "      <th>client_id</th>\n",
       "      <th>clnt_tenure_yr</th>\n",
       "      <th>clnt_tenure_mnth</th>\n",
       "      <th>clnt_age</th>\n",
       "      <th>gendr</th>\n",
       "      <th>num_accts</th>\n",
       "      <th>bal</th>\n",
       "      <th>calls_6_mnth</th>\n",
       "      <th>logons_6_mnth</th>\n",
       "      <th>Variation</th>\n",
       "      <th>no_of_visits</th>\n",
       "      <th>is_confirmed</th>\n",
       "      <th>step_duration</th>\n",
       "      <th>time_in_min</th>\n",
       "      <th>no_of_confirms</th>\n",
       "      <th>had_error</th>\n",
       "      <th>error_count</th>\n",
       "    </tr>\n",
       "  </thead>\n",
       "  <tbody>\n",
       "    <tr>\n",
       "      <th>0</th>\n",
       "      <td>836976</td>\n",
       "      <td>6.0</td>\n",
       "      <td>73.0</td>\n",
       "      <td>60.5</td>\n",
       "      <td>U</td>\n",
       "      <td>2.0</td>\n",
       "      <td>45105.30</td>\n",
       "      <td>6.0</td>\n",
       "      <td>9.0</td>\n",
       "      <td>Test</td>\n",
       "      <td>2</td>\n",
       "      <td>True</td>\n",
       "      <td>0 days 00:03:46</td>\n",
       "      <td>3.766667</td>\n",
       "      <td>3</td>\n",
       "      <td>False</td>\n",
       "      <td>0</td>\n",
       "    </tr>\n",
       "    <tr>\n",
       "      <th>1</th>\n",
       "      <td>2304905</td>\n",
       "      <td>7.0</td>\n",
       "      <td>94.0</td>\n",
       "      <td>58.0</td>\n",
       "      <td>U</td>\n",
       "      <td>2.0</td>\n",
       "      <td>110860.30</td>\n",
       "      <td>6.0</td>\n",
       "      <td>9.0</td>\n",
       "      <td>Control</td>\n",
       "      <td>1</td>\n",
       "      <td>True</td>\n",
       "      <td>0 days 00:00:59</td>\n",
       "      <td>0.983333</td>\n",
       "      <td>1</td>\n",
       "      <td>False</td>\n",
       "      <td>0</td>\n",
       "    </tr>\n",
       "    <tr>\n",
       "      <th>2</th>\n",
       "      <td>1439522</td>\n",
       "      <td>5.0</td>\n",
       "      <td>64.0</td>\n",
       "      <td>32.0</td>\n",
       "      <td>U</td>\n",
       "      <td>2.0</td>\n",
       "      <td>52467.79</td>\n",
       "      <td>6.0</td>\n",
       "      <td>9.0</td>\n",
       "      <td>Test</td>\n",
       "      <td>2</td>\n",
       "      <td>False</td>\n",
       "      <td>0 days 00:00:39</td>\n",
       "      <td>0.650000</td>\n",
       "      <td>0</td>\n",
       "      <td>True</td>\n",
       "      <td>1</td>\n",
       "    </tr>\n",
       "    <tr>\n",
       "      <th>3</th>\n",
       "      <td>1562045</td>\n",
       "      <td>16.0</td>\n",
       "      <td>198.0</td>\n",
       "      <td>49.0</td>\n",
       "      <td>M</td>\n",
       "      <td>2.0</td>\n",
       "      <td>67454.65</td>\n",
       "      <td>3.0</td>\n",
       "      <td>6.0</td>\n",
       "      <td>Test</td>\n",
       "      <td>1</td>\n",
       "      <td>False</td>\n",
       "      <td>0</td>\n",
       "      <td>0.000000</td>\n",
       "      <td>0</td>\n",
       "      <td>False</td>\n",
       "      <td>0</td>\n",
       "    </tr>\n",
       "    <tr>\n",
       "      <th>4</th>\n",
       "      <td>5126305</td>\n",
       "      <td>12.0</td>\n",
       "      <td>145.0</td>\n",
       "      <td>33.0</td>\n",
       "      <td>F</td>\n",
       "      <td>2.0</td>\n",
       "      <td>103671.75</td>\n",
       "      <td>0.0</td>\n",
       "      <td>3.0</td>\n",
       "      <td>Control</td>\n",
       "      <td>1</td>\n",
       "      <td>False</td>\n",
       "      <td>0</td>\n",
       "      <td>0.000000</td>\n",
       "      <td>0</td>\n",
       "      <td>False</td>\n",
       "      <td>0</td>\n",
       "    </tr>\n",
       "    <tr>\n",
       "      <th>...</th>\n",
       "      <td>...</td>\n",
       "      <td>...</td>\n",
       "      <td>...</td>\n",
       "      <td>...</td>\n",
       "      <td>...</td>\n",
       "      <td>...</td>\n",
       "      <td>...</td>\n",
       "      <td>...</td>\n",
       "      <td>...</td>\n",
       "      <td>...</td>\n",
       "      <td>...</td>\n",
       "      <td>...</td>\n",
       "      <td>...</td>\n",
       "      <td>...</td>\n",
       "      <td>...</td>\n",
       "      <td>...</td>\n",
       "      <td>...</td>\n",
       "    </tr>\n",
       "    <tr>\n",
       "      <th>50480</th>\n",
       "      <td>1780858</td>\n",
       "      <td>21.0</td>\n",
       "      <td>262.0</td>\n",
       "      <td>68.5</td>\n",
       "      <td>M</td>\n",
       "      <td>3.0</td>\n",
       "      <td>372100.59</td>\n",
       "      <td>6.0</td>\n",
       "      <td>9.0</td>\n",
       "      <td>Test</td>\n",
       "      <td>2</td>\n",
       "      <td>True</td>\n",
       "      <td>0 days 00:01:29.400000</td>\n",
       "      <td>1.490000</td>\n",
       "      <td>2</td>\n",
       "      <td>False</td>\n",
       "      <td>0</td>\n",
       "    </tr>\n",
       "    <tr>\n",
       "      <th>50481</th>\n",
       "      <td>6967120</td>\n",
       "      <td>21.0</td>\n",
       "      <td>260.0</td>\n",
       "      <td>68.5</td>\n",
       "      <td>M</td>\n",
       "      <td>3.0</td>\n",
       "      <td>4279873.38</td>\n",
       "      <td>6.0</td>\n",
       "      <td>9.0</td>\n",
       "      <td>Control</td>\n",
       "      <td>1</td>\n",
       "      <td>True</td>\n",
       "      <td>0 days 00:00:49.750000</td>\n",
       "      <td>0.829167</td>\n",
       "      <td>1</td>\n",
       "      <td>False</td>\n",
       "      <td>0</td>\n",
       "    </tr>\n",
       "    <tr>\n",
       "      <th>50482</th>\n",
       "      <td>5826160</td>\n",
       "      <td>20.0</td>\n",
       "      <td>249.0</td>\n",
       "      <td>56.5</td>\n",
       "      <td>F</td>\n",
       "      <td>2.0</td>\n",
       "      <td>44837.16</td>\n",
       "      <td>2.0</td>\n",
       "      <td>5.0</td>\n",
       "      <td>Test</td>\n",
       "      <td>3</td>\n",
       "      <td>True</td>\n",
       "      <td>0 days 00:01:35</td>\n",
       "      <td>1.583333</td>\n",
       "      <td>6</td>\n",
       "      <td>False</td>\n",
       "      <td>0</td>\n",
       "    </tr>\n",
       "    <tr>\n",
       "      <th>50483</th>\n",
       "      <td>8739285</td>\n",
       "      <td>19.0</td>\n",
       "      <td>229.0</td>\n",
       "      <td>69.5</td>\n",
       "      <td>F</td>\n",
       "      <td>2.0</td>\n",
       "      <td>44994.24</td>\n",
       "      <td>1.0</td>\n",
       "      <td>4.0</td>\n",
       "      <td>Test</td>\n",
       "      <td>1</td>\n",
       "      <td>True</td>\n",
       "      <td>0 days 00:02:53</td>\n",
       "      <td>2.883333</td>\n",
       "      <td>1</td>\n",
       "      <td>False</td>\n",
       "      <td>0</td>\n",
       "    </tr>\n",
       "    <tr>\n",
       "      <th>50484</th>\n",
       "      <td>7468138</td>\n",
       "      <td>18.0</td>\n",
       "      <td>222.0</td>\n",
       "      <td>61.0</td>\n",
       "      <td>F</td>\n",
       "      <td>3.0</td>\n",
       "      <td>209278.15</td>\n",
       "      <td>0.0</td>\n",
       "      <td>3.0</td>\n",
       "      <td>Test</td>\n",
       "      <td>1</td>\n",
       "      <td>False</td>\n",
       "      <td>0 days 00:04:12.200000</td>\n",
       "      <td>4.203333</td>\n",
       "      <td>0</td>\n",
       "      <td>True</td>\n",
       "      <td>1</td>\n",
       "    </tr>\n",
       "  </tbody>\n",
       "</table>\n",
       "<p>50485 rows × 17 columns</p>\n",
       "</div>"
      ],
      "text/plain": [
       "       client_id  clnt_tenure_yr  clnt_tenure_mnth  clnt_age gendr  num_accts  \\\n",
       "0         836976             6.0              73.0      60.5     U        2.0   \n",
       "1        2304905             7.0              94.0      58.0     U        2.0   \n",
       "2        1439522             5.0              64.0      32.0     U        2.0   \n",
       "3        1562045            16.0             198.0      49.0     M        2.0   \n",
       "4        5126305            12.0             145.0      33.0     F        2.0   \n",
       "...          ...             ...               ...       ...   ...        ...   \n",
       "50480    1780858            21.0             262.0      68.5     M        3.0   \n",
       "50481    6967120            21.0             260.0      68.5     M        3.0   \n",
       "50482    5826160            20.0             249.0      56.5     F        2.0   \n",
       "50483    8739285            19.0             229.0      69.5     F        2.0   \n",
       "50484    7468138            18.0             222.0      61.0     F        3.0   \n",
       "\n",
       "              bal  calls_6_mnth  logons_6_mnth Variation  no_of_visits  \\\n",
       "0        45105.30           6.0            9.0      Test             2   \n",
       "1       110860.30           6.0            9.0   Control             1   \n",
       "2        52467.79           6.0            9.0      Test             2   \n",
       "3        67454.65           3.0            6.0      Test             1   \n",
       "4       103671.75           0.0            3.0   Control             1   \n",
       "...           ...           ...            ...       ...           ...   \n",
       "50480   372100.59           6.0            9.0      Test             2   \n",
       "50481  4279873.38           6.0            9.0   Control             1   \n",
       "50482    44837.16           2.0            5.0      Test             3   \n",
       "50483    44994.24           1.0            4.0      Test             1   \n",
       "50484   209278.15           0.0            3.0      Test             1   \n",
       "\n",
       "       is_confirmed           step_duration  time_in_min  no_of_confirms  \\\n",
       "0              True         0 days 00:03:46     3.766667               3   \n",
       "1              True         0 days 00:00:59     0.983333               1   \n",
       "2             False         0 days 00:00:39     0.650000               0   \n",
       "3             False                       0     0.000000               0   \n",
       "4             False                       0     0.000000               0   \n",
       "...             ...                     ...          ...             ...   \n",
       "50480          True  0 days 00:01:29.400000     1.490000               2   \n",
       "50481          True  0 days 00:00:49.750000     0.829167               1   \n",
       "50482          True         0 days 00:01:35     1.583333               6   \n",
       "50483          True         0 days 00:02:53     2.883333               1   \n",
       "50484         False  0 days 00:04:12.200000     4.203333               0   \n",
       "\n",
       "       had_error  error_count  \n",
       "0          False            0  \n",
       "1          False            0  \n",
       "2           True            1  \n",
       "3          False            0  \n",
       "4          False            0  \n",
       "...          ...          ...  \n",
       "50480      False            0  \n",
       "50481      False            0  \n",
       "50482      False            0  \n",
       "50483      False            0  \n",
       "50484       True            1  \n",
       "\n",
       "[50485 rows x 17 columns]"
      ]
     },
     "execution_count": 38,
     "metadata": {},
     "output_type": "execute_result"
    }
   ],
   "source": [
    "filtered"
   ]
  },
  {
   "cell_type": "code",
   "execution_count": 103,
   "id": "37dd65aa-c96a-4a95-a360-527e78f6f94c",
   "metadata": {
    "tags": []
   },
   "outputs": [],
   "source": [
    "#filtered['error_count'].value_counts()"
   ]
  },
  {
   "cell_type": "code",
   "execution_count": 102,
   "id": "6213c94c-0bde-4c90-a065-97587fa89b70",
   "metadata": {
    "tags": []
   },
   "outputs": [],
   "source": [
    "#filtered.dtypes"
   ]
  },
  {
   "cell_type": "code",
   "execution_count": 54,
   "id": "0deb2666-8129-4b8e-91a5-2756d17f5f14",
   "metadata": {
    "tags": []
   },
   "outputs": [
    {
     "data": {
      "text/plain": [
       "<Axes: xlabel='time_in_min', ylabel='Count'>"
      ]
     },
     "execution_count": 54,
     "metadata": {},
     "output_type": "execute_result"
    },
    {
     "data": {
      "image/png": "[encoded data removed]",
      "text/plain": [
       "<Figure size 640x480 with 1 Axes>"
      ]
     },
     "metadata": {},
     "output_type": "display_data"
    }
   ],
   "source": [
    "sns.histplot(data=filtered, x='time_in_min', hue = \"Variation\",  multiple=\"layer\", bins=500, alpha=0.6)\n",
    "#plt.xlim(-1,10)"
   ]
  },
  {
   "cell_type": "code",
   "execution_count": 135,
   "id": "614755b6-9f59-4976-92dd-335a4026d358",
   "metadata": {
    "tags": []
   },
   "outputs": [],
   "source": [
    "# pd.DataFrame({\"Control\" : clients[clients['Variation']=='Control']['process_step'].value_counts(), \"Test\" : tclients[clients['Variation']=='Test']['process_step'].value_counts(), \"Unknowns\" : clients[clients['Variation']=='Unknown']['process_step'].value_counts()})"
   ]
  },
  {
   "cell_type": "code",
   "execution_count": 104,
   "id": "70dbbba5-b50f-4f52-953d-e2ef77b9d90f",
   "metadata": {
    "tags": []
   },
   "outputs": [
    {
     "data": {
      "text/plain": [
       "0.027653778236822572"
      ]
     },
     "execution_count": 104,
     "metadata": {},
     "output_type": "execute_result"
    }
   ],
   "source": [
    "stats.ttest_ind(test['time_in_min'], control['time_in_min']).pvalue"
   ]
  },
  {
   "cell_type": "code",
   "execution_count": 105,
   "id": "3a7b6e30-8f8f-4570-b25d-e69e20cb92c2",
   "metadata": {
    "tags": []
   },
   "outputs": [
    {
     "data": {
      "text/plain": [
       "5.512562058750981e-16"
      ]
     },
     "execution_count": 105,
     "metadata": {},
     "output_type": "execute_result"
    }
   ],
   "source": [
    "stats.ttest_ind(test['had_error'], control['had_error']).pvalue"
   ]
  },
  {
   "cell_type": "code",
   "execution_count": 106,
   "id": "01ee1ce6-b92f-4894-92ff-e8136db2a41c",
   "metadata": {
    "tags": []
   },
   "outputs": [
    {
     "data": {
      "text/plain": [
       "2.573121425492731e-40"
      ]
     },
     "execution_count": 106,
     "metadata": {},
     "output_type": "execute_result"
    }
   ],
   "source": [
    "stats.ttest_ind(test['error_count'], control['error_count']).pvalue "
   ]
  },
  {
   "cell_type": "code",
   "execution_count": 112,
   "id": "12b886e1-2d26-4a91-8b42-c1c21d4901fc",
   "metadata": {
    "tags": []
   },
   "outputs": [
    {
     "data": {
      "text/plain": [
       "Variation\n",
       "Control     8074\n",
       "Test       10188\n",
       "Name: had_error, dtype: int64"
      ]
     },
     "execution_count": 112,
     "metadata": {},
     "output_type": "execute_result"
    }
   ],
   "source": [
    "filtered.groupby('Variation')['had_error'].sum()"
   ]
  },
  {
   "cell_type": "code",
   "execution_count": null,
   "id": "077f53d9-84e7-4049-af17-d792b55cd11a",
   "metadata": {},
   "outputs": [],
   "source": []
  }
 ],
 "metadata": {
  "kernelspec": {
   "display_name": "Python 3 (ipykernel)",
   "language": "python",
   "name": "python3"
  },
  "language_info": {
   "codemirror_mode": {
    "name": "ipython",
    "version": 3
   },
   "file_extension": ".py",
   "mimetype": "text/x-python",
   "name": "python",
   "nbconvert_exporter": "python",
   "pygments_lexer": "ipython3",
   "version": "3.11.5"
  }
 },
 "nbformat": 4,
 "nbformat_minor": 5
}

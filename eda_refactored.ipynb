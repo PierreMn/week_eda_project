{
 "cells": [
  {
   "cell_type": "code",
   "execution_count": 1,
   "metadata": {},
   "outputs": [],
   "source": [
    "# pip install pyyaml"
   ]
  },
  {
   "cell_type": "code",
   "execution_count": 2,
   "metadata": {},
   "outputs": [],
   "source": [
    "import pandas as pd\n",
    "import yaml\n",
    "\n",
    "with open('settings.yml', 'r') as file:\n",
    "    settings = yaml.safe_load(file)\n",
    "\n",
    "df_final_demo = pd.read_csv(settings['data']['src']['df_final_demo'])\n",
    "df_pt1 = pd.read_csv(settings['data']['src']['pt_1'], parse_dates=['date_time'])\n",
    "df_pt2 = pd.read_csv(settings['data']['src']['pt_2'], parse_dates=['date_time'])\n",
    "df_final_experiement_clients = pd.read_csv(settings['data']['src']['df_final_experiment_clients'])\n",
    "\n",
    "df_final_web_data = pd.concat([df_pt1,df_pt2])"
   ]
  },
  {
   "cell_type": "code",
   "execution_count": 3,
   "metadata": {},
   "outputs": [],
   "source": [
    "# web_data_summary\n",
    "\n",
    "# target df:\n",
    "\n",
    "# client_id - id of client\n",
    "# confirmed - has reached the confirmed step\n",
    "# avg_step_duration - average time spent on each step\n",
    "# error_count - number of teams they went back to a previous step\n",
    "# had_error - use went back a step at least 1 time\n",
    "# no_of_visits\n",
    "# no_of_confirmed"
   ]
  },
  {
   "cell_type": "code",
   "execution_count": 4,
   "metadata": {},
   "outputs": [],
   "source": [
    "clients_who_confirmed = df_final_web_data[df_final_web_data['process_step']=='confirm']\n",
    "clients_who_confirmed = clients_who_confirmed.drop_duplicates(subset='client_id')"
   ]
  },
  {
   "cell_type": "code",
   "execution_count": 5,
   "metadata": {},
   "outputs": [],
   "source": [
    "df_final_web_data = df_final_web_data.drop_duplicates()\n",
    "df_final_web_data = df_final_web_data.sort_values(by=['visit_id','date_time'])\n",
    "df_final_web_data = df_final_web_data.reset_index(drop=True)\n",
    "df_final_web_data['next_date_time'] = (df_final_web_data.sort_values(by='date_time').groupby('visit_id')['date_time'].shift(-1))\n",
    "df_final_web_data['duration'] = df_final_web_data['next_date_time'] - df_final_web_data['date_time']"
   ]
  },
  {
   "cell_type": "code",
   "execution_count": 6,
   "metadata": {},
   "outputs": [],
   "source": [
    "df_avg_step_durations = df_final_web_data.groupby(by='client_id')[['duration']].mean()"
   ]
  },
  {
   "cell_type": "code",
   "execution_count": 7,
   "metadata": {},
   "outputs": [],
   "source": [
    "# how are we going to define an error \n",
    "# - is hitting the same page twice an error\n",
    "# - is it only an error if you go back a step?\n",
    "# - is it only an error if you go back a step within the same visit?\n",
    "\n",
    "# lets review the \"documentation\"\n",
    "# Error Rates: If there’s a step where users go back to a previous step,\n",
    "# it may indicate confusion or an error. You should consider moving from \n",
    "# a later step to an earlier one as an error"
   ]
  },
  {
   "cell_type": "code",
   "execution_count": 8,
   "metadata": {},
   "outputs": [],
   "source": [
    "df_final_web_data = df_final_web_data.sort_values(['client_id','date_time'])\n",
    "process_map = {'start':0, 'step_1':1, 'step_2':2, 'step_3':3, 'confirm':4}\n",
    "df_final_web_data['process_step_id'] = df_final_web_data['process_step'].map(process_map)\n",
    "df_final_web_data['previous_process_step_id'] = (df_final_web_data.sort_values(by=['client_id','date_time']).groupby('client_id')['process_step_id'].shift(1))\n",
    "df_final_web_data['is_error'] = df_final_web_data['process_step_id'] < df_final_web_data['previous_process_step_id']\n",
    "df_final_web_data[df_final_web_data['client_id'].isin(df_final_web_data['client_id'].sample(5))][['client_id','date_time','process_step_id','previous_process_step_id','is_error']]\n",
    "df_client_error = df_final_web_data[df_final_web_data['is_error']==True].groupby('client_id')['is_error'].agg([max,len])"
   ]
  },
  {
   "cell_type": "code",
   "execution_count": 9,
   "metadata": {},
   "outputs": [],
   "source": [
    "df_client_visits = df_final_web_data.groupby('client_id')[['visit_id']].nunique()"
   ]
  },
  {
   "cell_type": "code",
   "execution_count": 10,
   "metadata": {},
   "outputs": [],
   "source": [
    "df_client_confirms = df_final_web_data[['client_id','process_step']][df_final_web_data['process_step']=='confirm'].groupby('client_id').count()\n",
    "df_client_confirms.columns = ['no_of_confirms']"
   ]
  },
  {
   "cell_type": "code",
   "execution_count": 11,
   "metadata": {},
   "outputs": [],
   "source": [
    "clients_who_confirmed['is_confirmed'] = 1\n",
    "clients_who_confirmed = clients_who_confirmed[['client_id', 'is_confirmed']]\n",
    "df_avg_step_durations = df_avg_step_durations.reset_index()\n",
    "df_client_error = df_client_error.reset_index()\n",
    "df_client_error.columns=['client_id','had_error','error_count']\n",
    "df_client_error\n",
    "df_client_visits = df_client_visits.reset_index()\n",
    "df_client_visits.columns=['client_id', 'no_of_visits']\n",
    "df_client_confirms = df_client_confirms.reset_index()"
   ]
  },
  {
   "cell_type": "code",
   "execution_count": 12,
   "metadata": {},
   "outputs": [],
   "source": [
    "dfs =[df_client_visits, clients_who_confirmed, df_avg_step_durations, df_client_error, df_client_confirms]\n",
    "dfs = [df.set_index('client_id') for df in dfs]\n",
    "\n",
    "web_data_summary = dfs[0].join(dfs[1:])"
   ]
  },
  {
   "cell_type": "code",
   "execution_count": 13,
   "metadata": {},
   "outputs": [],
   "source": [
    "web_data_summary['had_error'] = web_data_summary['had_error'].fillna(False)\n",
    "web_data_summary = web_data_summary.fillna(0)\n",
    "web_data_summary['is_confirmed'] = web_data_summary['is_confirmed'].map({1:True, 0:False})\n",
    "web_data_summary[['error_count','no_of_confirms']] = web_data_summary[['error_count','no_of_confirms']].astype(int)"
   ]
  },
  {
   "cell_type": "code",
   "execution_count": 14,
   "metadata": {},
   "outputs": [
    {
     "data": {
      "text/html": [
       "<div>\n",
       "<style scoped>\n",
       "    .dataframe tbody tr th:only-of-type {\n",
       "        vertical-align: middle;\n",
       "    }\n",
       "\n",
       "    .dataframe tbody tr th {\n",
       "        vertical-align: top;\n",
       "    }\n",
       "\n",
       "    .dataframe thead th {\n",
       "        text-align: right;\n",
       "    }\n",
       "</style>\n",
       "<table border=\"1\" class=\"dataframe\">\n",
       "  <thead>\n",
       "    <tr style=\"text-align: right;\">\n",
       "      <th></th>\n",
       "      <th>no_of_visits</th>\n",
       "      <th>is_confirmed</th>\n",
       "      <th>duration</th>\n",
       "      <th>had_error</th>\n",
       "      <th>error_count</th>\n",
       "      <th>no_of_confirms</th>\n",
       "    </tr>\n",
       "    <tr>\n",
       "      <th>client_id</th>\n",
       "      <th></th>\n",
       "      <th></th>\n",
       "      <th></th>\n",
       "      <th></th>\n",
       "      <th></th>\n",
       "      <th></th>\n",
       "    </tr>\n",
       "  </thead>\n",
       "  <tbody>\n",
       "    <tr>\n",
       "      <th>169</th>\n",
       "      <td>1</td>\n",
       "      <td>True</td>\n",
       "      <td>0 days 00:00:53.250000</td>\n",
       "      <td>False</td>\n",
       "      <td>0</td>\n",
       "      <td>1</td>\n",
       "    </tr>\n",
       "    <tr>\n",
       "      <th>336</th>\n",
       "      <td>1</td>\n",
       "      <td>False</td>\n",
       "      <td>0 days 00:15:48</td>\n",
       "      <td>False</td>\n",
       "      <td>0</td>\n",
       "      <td>0</td>\n",
       "    </tr>\n",
       "    <tr>\n",
       "      <th>546</th>\n",
       "      <td>1</td>\n",
       "      <td>True</td>\n",
       "      <td>0 days 00:00:33.250000</td>\n",
       "      <td>False</td>\n",
       "      <td>0</td>\n",
       "      <td>1</td>\n",
       "    </tr>\n",
       "    <tr>\n",
       "      <th>555</th>\n",
       "      <td>1</td>\n",
       "      <td>True</td>\n",
       "      <td>0 days 00:00:39.500000</td>\n",
       "      <td>False</td>\n",
       "      <td>0</td>\n",
       "      <td>1</td>\n",
       "    </tr>\n",
       "    <tr>\n",
       "      <th>647</th>\n",
       "      <td>1</td>\n",
       "      <td>True</td>\n",
       "      <td>0 days 00:01:34.250000</td>\n",
       "      <td>False</td>\n",
       "      <td>0</td>\n",
       "      <td>1</td>\n",
       "    </tr>\n",
       "    <tr>\n",
       "      <th>...</th>\n",
       "      <td>...</td>\n",
       "      <td>...</td>\n",
       "      <td>...</td>\n",
       "      <td>...</td>\n",
       "      <td>...</td>\n",
       "      <td>...</td>\n",
       "    </tr>\n",
       "    <tr>\n",
       "      <th>9999729</th>\n",
       "      <td>3</td>\n",
       "      <td>True</td>\n",
       "      <td>0 days 00:01:07.500000</td>\n",
       "      <td>True</td>\n",
       "      <td>2</td>\n",
       "      <td>1</td>\n",
       "    </tr>\n",
       "    <tr>\n",
       "      <th>9999768</th>\n",
       "      <td>1</td>\n",
       "      <td>True</td>\n",
       "      <td>0 days 00:00:44.181818181</td>\n",
       "      <td>True</td>\n",
       "      <td>3</td>\n",
       "      <td>1</td>\n",
       "    </tr>\n",
       "    <tr>\n",
       "      <th>9999832</th>\n",
       "      <td>1</td>\n",
       "      <td>False</td>\n",
       "      <td>0 days 00:00:08</td>\n",
       "      <td>False</td>\n",
       "      <td>0</td>\n",
       "      <td>0</td>\n",
       "    </tr>\n",
       "    <tr>\n",
       "      <th>9999839</th>\n",
       "      <td>1</td>\n",
       "      <td>True</td>\n",
       "      <td>0 days 00:00:49.600000</td>\n",
       "      <td>False</td>\n",
       "      <td>0</td>\n",
       "      <td>1</td>\n",
       "    </tr>\n",
       "    <tr>\n",
       "      <th>9999875</th>\n",
       "      <td>1</td>\n",
       "      <td>True</td>\n",
       "      <td>0 days 00:01:43.600000</td>\n",
       "      <td>False</td>\n",
       "      <td>0</td>\n",
       "      <td>1</td>\n",
       "    </tr>\n",
       "  </tbody>\n",
       "</table>\n",
       "<p>120157 rows × 6 columns</p>\n",
       "</div>"
      ],
      "text/plain": [
       "           no_of_visits  is_confirmed                   duration  had_error  \\\n",
       "client_id                                                                     \n",
       "169                   1          True     0 days 00:00:53.250000      False   \n",
       "336                   1         False            0 days 00:15:48      False   \n",
       "546                   1          True     0 days 00:00:33.250000      False   \n",
       "555                   1          True     0 days 00:00:39.500000      False   \n",
       "647                   1          True     0 days 00:01:34.250000      False   \n",
       "...                 ...           ...                        ...        ...   \n",
       "9999729               3          True     0 days 00:01:07.500000       True   \n",
       "9999768               1          True  0 days 00:00:44.181818181       True   \n",
       "9999832               1         False            0 days 00:00:08      False   \n",
       "9999839               1          True     0 days 00:00:49.600000      False   \n",
       "9999875               1          True     0 days 00:01:43.600000      False   \n",
       "\n",
       "           error_count  no_of_confirms  \n",
       "client_id                               \n",
       "169                  0               1  \n",
       "336                  0               0  \n",
       "546                  0               1  \n",
       "555                  0               1  \n",
       "647                  0               1  \n",
       "...                ...             ...  \n",
       "9999729              2               1  \n",
       "9999768              3               1  \n",
       "9999832              0               0  \n",
       "9999839              0               1  \n",
       "9999875              0               1  \n",
       "\n",
       "[120157 rows x 6 columns]"
      ]
     },
     "execution_count": 14,
     "metadata": {},
     "output_type": "execute_result"
    }
   ],
   "source": [
    "web_data_summary"
   ]
  }
 ],
 "metadata": {
  "kernelspec": {
   "display_name": "Python 3",
   "language": "python",
   "name": "python3"
  },
  "language_info": {
   "codemirror_mode": {
    "name": "ipython",
    "version": 3
   },
   "file_extension": ".py",
   "mimetype": "text/x-python",
   "name": "python",
   "nbconvert_exporter": "python",
   "pygments_lexer": "ipython3",
   "version": "3.11.7"
  }
 },
 "nbformat": 4,
 "nbformat_minor": 2
}
